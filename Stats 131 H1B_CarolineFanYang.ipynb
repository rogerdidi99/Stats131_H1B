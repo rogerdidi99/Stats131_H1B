{
 "cells": [
  {
   "cell_type": "code",
   "execution_count": 1,
   "metadata": {},
   "outputs": [],
   "source": [
    "import numpy as np\n",
    "import pandas as pd\n",
    "import matplotlib.pyplot as plt"
   ]
  },
  {
   "cell_type": "code",
   "execution_count": 2,
   "metadata": {},
   "outputs": [],
   "source": [
    "H1b = pd.read_excel('H-1B_Disclosure_Data_FY2019.xlsx')"
   ]
  },
  {
   "cell_type": "code",
   "execution_count": 3,
   "metadata": {
    "scrolled": true
   },
   "outputs": [
    {
     "data": {
      "text/html": [
       "<div>\n",
       "<style scoped>\n",
       "    .dataframe tbody tr th:only-of-type {\n",
       "        vertical-align: middle;\n",
       "    }\n",
       "\n",
       "    .dataframe tbody tr th {\n",
       "        vertical-align: top;\n",
       "    }\n",
       "\n",
       "    .dataframe thead th {\n",
       "        text-align: right;\n",
       "    }\n",
       "</style>\n",
       "<table border=\"1\" class=\"dataframe\">\n",
       "  <thead>\n",
       "    <tr style=\"text-align: right;\">\n",
       "      <th></th>\n",
       "      <th>CASE_NUMBER</th>\n",
       "      <th>CASE_STATUS</th>\n",
       "      <th>CASE_SUBMITTED</th>\n",
       "      <th>DECISION_DATE</th>\n",
       "      <th>ORIGINAL_CERT_DATE</th>\n",
       "      <th>VISA_CLASS</th>\n",
       "      <th>EMPLOYMENT_START_DATE</th>\n",
       "      <th>EMPLOYMENT_END_DATE</th>\n",
       "      <th>EMPLOYER_NAME</th>\n",
       "      <th>EMPLOYER_BUSINESS_DBA</th>\n",
       "      <th>...</th>\n",
       "      <th>APPX_A_FIELD_OF_STUDY_3</th>\n",
       "      <th>APPX_A_DATE_OF_DEGREE_3</th>\n",
       "      <th>APPX_A_NO_OF_EXEMPT_WORKER_4</th>\n",
       "      <th>APPX_A_NAME_OF_INSTITUTION_4</th>\n",
       "      <th>APPX_A_FIELD_OF_STUDY_4</th>\n",
       "      <th>APPX_A_DATE_OF_DEGREE_4</th>\n",
       "      <th>APPX_A_NO_OF_EXEMPT_WORKER_5</th>\n",
       "      <th>APPX_A_NAME_OF_INSTITUTION_5</th>\n",
       "      <th>APPX_A_FIELD_OF_STUDY_5</th>\n",
       "      <th>APPX_A_DATE_OF_DEGREE_5</th>\n",
       "    </tr>\n",
       "  </thead>\n",
       "  <tbody>\n",
       "    <tr>\n",
       "      <td>0</td>\n",
       "      <td>I-200-18269-520762</td>\n",
       "      <td>DENIED</td>\n",
       "      <td>2018-09-26</td>\n",
       "      <td>2018-10-01</td>\n",
       "      <td>NaT</td>\n",
       "      <td>H-1B</td>\n",
       "      <td>2018-09-26</td>\n",
       "      <td>2021-09-26</td>\n",
       "      <td>NES GLOBAL, LLC</td>\n",
       "      <td>CANDACE ROMERO</td>\n",
       "      <td>...</td>\n",
       "      <td>NaN</td>\n",
       "      <td>NaN</td>\n",
       "      <td>NaN</td>\n",
       "      <td>NaN</td>\n",
       "      <td>NaN</td>\n",
       "      <td>NaN</td>\n",
       "      <td>NaN</td>\n",
       "      <td>NaN</td>\n",
       "      <td>NaN</td>\n",
       "      <td>NaN</td>\n",
       "    </tr>\n",
       "    <tr>\n",
       "      <td>1</td>\n",
       "      <td>I-200-18323-885516</td>\n",
       "      <td>DENIED</td>\n",
       "      <td>2018-11-19</td>\n",
       "      <td>2018-11-26</td>\n",
       "      <td>NaT</td>\n",
       "      <td>H-1B</td>\n",
       "      <td>2018-11-27</td>\n",
       "      <td>2021-11-26</td>\n",
       "      <td>UNIVERSITY OF TEXAS AT DALLAS</td>\n",
       "      <td>NaN</td>\n",
       "      <td>...</td>\n",
       "      <td>NaN</td>\n",
       "      <td>NaN</td>\n",
       "      <td>NaN</td>\n",
       "      <td>NaN</td>\n",
       "      <td>NaN</td>\n",
       "      <td>NaN</td>\n",
       "      <td>NaN</td>\n",
       "      <td>NaN</td>\n",
       "      <td>NaN</td>\n",
       "      <td>NaN</td>\n",
       "    </tr>\n",
       "    <tr>\n",
       "      <td>2</td>\n",
       "      <td>I-200-18323-882044</td>\n",
       "      <td>DENIED</td>\n",
       "      <td>2018-11-19</td>\n",
       "      <td>2018-11-26</td>\n",
       "      <td>NaT</td>\n",
       "      <td>H-1B</td>\n",
       "      <td>2018-11-28</td>\n",
       "      <td>2021-11-27</td>\n",
       "      <td>UNIVERSITY OF TEXAS AT DALLAS</td>\n",
       "      <td>NaN</td>\n",
       "      <td>...</td>\n",
       "      <td>NaN</td>\n",
       "      <td>NaN</td>\n",
       "      <td>NaN</td>\n",
       "      <td>NaN</td>\n",
       "      <td>NaN</td>\n",
       "      <td>NaN</td>\n",
       "      <td>NaN</td>\n",
       "      <td>NaN</td>\n",
       "      <td>NaN</td>\n",
       "      <td>NaN</td>\n",
       "    </tr>\n",
       "    <tr>\n",
       "      <td>3</td>\n",
       "      <td>I-200-18356-858057</td>\n",
       "      <td>DENIED</td>\n",
       "      <td>2018-12-22</td>\n",
       "      <td>2018-12-27</td>\n",
       "      <td>NaT</td>\n",
       "      <td>H-1B</td>\n",
       "      <td>2019-01-01</td>\n",
       "      <td>2022-01-01</td>\n",
       "      <td>BILLY R. WINGARD</td>\n",
       "      <td>NaN</td>\n",
       "      <td>...</td>\n",
       "      <td>NaN</td>\n",
       "      <td>NaN</td>\n",
       "      <td>NaN</td>\n",
       "      <td>NaN</td>\n",
       "      <td>NaN</td>\n",
       "      <td>NaN</td>\n",
       "      <td>NaN</td>\n",
       "      <td>NaN</td>\n",
       "      <td>NaN</td>\n",
       "      <td>NaN</td>\n",
       "    </tr>\n",
       "    <tr>\n",
       "      <td>4</td>\n",
       "      <td>I-200-19081-827349</td>\n",
       "      <td>CERTIFIED</td>\n",
       "      <td>2019-03-22</td>\n",
       "      <td>2019-03-28</td>\n",
       "      <td>NaT</td>\n",
       "      <td>H-1B</td>\n",
       "      <td>2019-04-01</td>\n",
       "      <td>2022-04-01</td>\n",
       "      <td>COATES,BRIGHT &amp; BAY LLC</td>\n",
       "      <td>NaN</td>\n",
       "      <td>...</td>\n",
       "      <td>NaN</td>\n",
       "      <td>NaN</td>\n",
       "      <td>NaN</td>\n",
       "      <td>NaN</td>\n",
       "      <td>NaN</td>\n",
       "      <td>NaN</td>\n",
       "      <td>NaN</td>\n",
       "      <td>NaN</td>\n",
       "      <td>NaN</td>\n",
       "      <td>NaN</td>\n",
       "    </tr>\n",
       "  </tbody>\n",
       "</table>\n",
       "<p>5 rows × 73 columns</p>\n",
       "</div>"
      ],
      "text/plain": [
       "          CASE_NUMBER CASE_STATUS CASE_SUBMITTED DECISION_DATE  \\\n",
       "0  I-200-18269-520762      DENIED     2018-09-26    2018-10-01   \n",
       "1  I-200-18323-885516      DENIED     2018-11-19    2018-11-26   \n",
       "2  I-200-18323-882044      DENIED     2018-11-19    2018-11-26   \n",
       "3  I-200-18356-858057      DENIED     2018-12-22    2018-12-27   \n",
       "4  I-200-19081-827349   CERTIFIED     2019-03-22    2019-03-28   \n",
       "\n",
       "  ORIGINAL_CERT_DATE VISA_CLASS EMPLOYMENT_START_DATE EMPLOYMENT_END_DATE  \\\n",
       "0                NaT       H-1B            2018-09-26          2021-09-26   \n",
       "1                NaT       H-1B            2018-11-27          2021-11-26   \n",
       "2                NaT       H-1B            2018-11-28          2021-11-27   \n",
       "3                NaT       H-1B            2019-01-01          2022-01-01   \n",
       "4                NaT       H-1B            2019-04-01          2022-04-01   \n",
       "\n",
       "                   EMPLOYER_NAME EMPLOYER_BUSINESS_DBA  ...  \\\n",
       "0                NES GLOBAL, LLC        CANDACE ROMERO  ...   \n",
       "1  UNIVERSITY OF TEXAS AT DALLAS                   NaN  ...   \n",
       "2  UNIVERSITY OF TEXAS AT DALLAS                   NaN  ...   \n",
       "3               BILLY R. WINGARD                   NaN  ...   \n",
       "4        COATES,BRIGHT & BAY LLC                   NaN  ...   \n",
       "\n",
       "  APPX_A_FIELD_OF_STUDY_3 APPX_A_DATE_OF_DEGREE_3  \\\n",
       "0                     NaN                     NaN   \n",
       "1                     NaN                     NaN   \n",
       "2                     NaN                     NaN   \n",
       "3                     NaN                     NaN   \n",
       "4                     NaN                     NaN   \n",
       "\n",
       "  APPX_A_NO_OF_EXEMPT_WORKER_4 APPX_A_NAME_OF_INSTITUTION_4  \\\n",
       "0                          NaN                          NaN   \n",
       "1                          NaN                          NaN   \n",
       "2                          NaN                          NaN   \n",
       "3                          NaN                          NaN   \n",
       "4                          NaN                          NaN   \n",
       "\n",
       "  APPX_A_FIELD_OF_STUDY_4 APPX_A_DATE_OF_DEGREE_4  \\\n",
       "0                     NaN                     NaN   \n",
       "1                     NaN                     NaN   \n",
       "2                     NaN                     NaN   \n",
       "3                     NaN                     NaN   \n",
       "4                     NaN                     NaN   \n",
       "\n",
       "  APPX_A_NO_OF_EXEMPT_WORKER_5 APPX_A_NAME_OF_INSTITUTION_5  \\\n",
       "0                          NaN                          NaN   \n",
       "1                          NaN                          NaN   \n",
       "2                          NaN                          NaN   \n",
       "3                          NaN                          NaN   \n",
       "4                          NaN                          NaN   \n",
       "\n",
       "  APPX_A_FIELD_OF_STUDY_5 APPX_A_DATE_OF_DEGREE_5  \n",
       "0                     NaN                     NaN  \n",
       "1                     NaN                     NaN  \n",
       "2                     NaN                     NaN  \n",
       "3                     NaN                     NaN  \n",
       "4                     NaN                     NaN  \n",
       "\n",
       "[5 rows x 73 columns]"
      ]
     },
     "execution_count": 3,
     "metadata": {},
     "output_type": "execute_result"
    }
   ],
   "source": [
    "H1b.head()"
   ]
  },
  {
   "cell_type": "code",
   "execution_count": 4,
   "metadata": {
    "scrolled": false
   },
   "outputs": [
    {
     "data": {
      "text/html": [
       "<div>\n",
       "<style scoped>\n",
       "    .dataframe tbody tr th:only-of-type {\n",
       "        vertical-align: middle;\n",
       "    }\n",
       "\n",
       "    .dataframe tbody tr th {\n",
       "        vertical-align: top;\n",
       "    }\n",
       "\n",
       "    .dataframe thead th {\n",
       "        text-align: right;\n",
       "    }\n",
       "</style>\n",
       "<table border=\"1\" class=\"dataframe\">\n",
       "  <thead>\n",
       "    <tr style=\"text-align: right;\">\n",
       "      <th></th>\n",
       "      <th>CASE_NUMBER</th>\n",
       "      <th>CASE_STATUS</th>\n",
       "      <th>CASE_SUBMITTED</th>\n",
       "      <th>DECISION_DATE</th>\n",
       "      <th>VISA_CLASS</th>\n",
       "      <th>EMPLOYMENT_START_DATE</th>\n",
       "      <th>EMPLOYMENT_END_DATE</th>\n",
       "      <th>EMPLOYER_NAME</th>\n",
       "      <th>EMPLOYER_ADDRESS</th>\n",
       "      <th>EMPLOYER_CITY</th>\n",
       "      <th>...</th>\n",
       "      <th>WAGE_RATE_OF_PAY_FROM</th>\n",
       "      <th>WAGE_RATE_OF_PAY_TO</th>\n",
       "      <th>WAGE_UNIT_OF_PAY</th>\n",
       "      <th>H1B_DEPENDENT</th>\n",
       "      <th>WORKSITE_CITY</th>\n",
       "      <th>WORKSITE_COUNTY</th>\n",
       "      <th>WORKSITE_STATE</th>\n",
       "      <th>WORKSITE_POSTAL_CODE</th>\n",
       "      <th>WILLFUL_VIOLATOR</th>\n",
       "      <th>SUPPORT_H1B</th>\n",
       "    </tr>\n",
       "  </thead>\n",
       "  <tbody>\n",
       "    <tr>\n",
       "      <td>0</td>\n",
       "      <td>I-200-18269-520762</td>\n",
       "      <td>DENIED</td>\n",
       "      <td>2018-09-26</td>\n",
       "      <td>2018-10-01</td>\n",
       "      <td>H-1B</td>\n",
       "      <td>2018-09-26</td>\n",
       "      <td>2021-09-26</td>\n",
       "      <td>NES GLOBAL, LLC</td>\n",
       "      <td>800 GESSNER ROAD</td>\n",
       "      <td>HOUSTON</td>\n",
       "      <td>...</td>\n",
       "      <td>36.00</td>\n",
       "      <td>0.00</td>\n",
       "      <td>Hour</td>\n",
       "      <td>N</td>\n",
       "      <td>HOUSTON</td>\n",
       "      <td>TX</td>\n",
       "      <td>FL</td>\n",
       "      <td>77024</td>\n",
       "      <td>N</td>\n",
       "      <td>NaN</td>\n",
       "    </tr>\n",
       "    <tr>\n",
       "      <td>1</td>\n",
       "      <td>I-200-18323-885516</td>\n",
       "      <td>DENIED</td>\n",
       "      <td>2018-11-19</td>\n",
       "      <td>2018-11-26</td>\n",
       "      <td>H-1B</td>\n",
       "      <td>2018-11-27</td>\n",
       "      <td>2021-11-26</td>\n",
       "      <td>UNIVERSITY OF TEXAS AT DALLAS</td>\n",
       "      <td>800 W CAMPBELL RD</td>\n",
       "      <td>RICHARDSON</td>\n",
       "      <td>...</td>\n",
       "      <td>50000.00</td>\n",
       "      <td>0.00</td>\n",
       "      <td>Year</td>\n",
       "      <td>N</td>\n",
       "      <td>Richardson</td>\n",
       "      <td>TX</td>\n",
       "      <td>TX</td>\n",
       "      <td>75080</td>\n",
       "      <td>N</td>\n",
       "      <td>NaN</td>\n",
       "    </tr>\n",
       "    <tr>\n",
       "      <td>2</td>\n",
       "      <td>I-200-18323-882044</td>\n",
       "      <td>DENIED</td>\n",
       "      <td>2018-11-19</td>\n",
       "      <td>2018-11-26</td>\n",
       "      <td>H-1B</td>\n",
       "      <td>2018-11-28</td>\n",
       "      <td>2021-11-27</td>\n",
       "      <td>UNIVERSITY OF TEXAS AT DALLAS</td>\n",
       "      <td>800 W CAMPBELL RD</td>\n",
       "      <td>RICHARDSON</td>\n",
       "      <td>...</td>\n",
       "      <td>207777.00</td>\n",
       "      <td>0.00</td>\n",
       "      <td>Year</td>\n",
       "      <td>N</td>\n",
       "      <td>Richardson</td>\n",
       "      <td>Dallas</td>\n",
       "      <td>TX</td>\n",
       "      <td>75080</td>\n",
       "      <td>N</td>\n",
       "      <td>NaN</td>\n",
       "    </tr>\n",
       "    <tr>\n",
       "      <td>3</td>\n",
       "      <td>I-200-18356-858057</td>\n",
       "      <td>DENIED</td>\n",
       "      <td>2018-12-22</td>\n",
       "      <td>2018-12-27</td>\n",
       "      <td>H-1B</td>\n",
       "      <td>2019-01-01</td>\n",
       "      <td>2022-01-01</td>\n",
       "      <td>BILLY R. WINGARD</td>\n",
       "      <td>4705 EDGEWOOD DRIVE</td>\n",
       "      <td>NEW BERN</td>\n",
       "      <td>...</td>\n",
       "      <td>7.95</td>\n",
       "      <td>7.95</td>\n",
       "      <td>Hour</td>\n",
       "      <td>N</td>\n",
       "      <td>New Bern</td>\n",
       "      <td>Craven</td>\n",
       "      <td>NC</td>\n",
       "      <td>28562</td>\n",
       "      <td>N</td>\n",
       "      <td>NaN</td>\n",
       "    </tr>\n",
       "    <tr>\n",
       "      <td>4</td>\n",
       "      <td>I-200-19081-827349</td>\n",
       "      <td>CERTIFIED</td>\n",
       "      <td>2019-03-22</td>\n",
       "      <td>2019-03-28</td>\n",
       "      <td>H-1B</td>\n",
       "      <td>2019-04-01</td>\n",
       "      <td>2022-04-01</td>\n",
       "      <td>COATES,BRIGHT &amp; BAY LLC</td>\n",
       "      <td>2820 PAN AMERICAN BLVD</td>\n",
       "      <td>NORTH PORT</td>\n",
       "      <td>...</td>\n",
       "      <td>8.46</td>\n",
       "      <td>10.00</td>\n",
       "      <td>Hour</td>\n",
       "      <td>Y</td>\n",
       "      <td>NORTH PORT</td>\n",
       "      <td>florida</td>\n",
       "      <td>FL</td>\n",
       "      <td>34287</td>\n",
       "      <td>N</td>\n",
       "      <td>N</td>\n",
       "    </tr>\n",
       "  </tbody>\n",
       "</table>\n",
       "<p>5 rows × 46 columns</p>\n",
       "</div>"
      ],
      "text/plain": [
       "          CASE_NUMBER CASE_STATUS CASE_SUBMITTED DECISION_DATE VISA_CLASS  \\\n",
       "0  I-200-18269-520762      DENIED     2018-09-26    2018-10-01       H-1B   \n",
       "1  I-200-18323-885516      DENIED     2018-11-19    2018-11-26       H-1B   \n",
       "2  I-200-18323-882044      DENIED     2018-11-19    2018-11-26       H-1B   \n",
       "3  I-200-18356-858057      DENIED     2018-12-22    2018-12-27       H-1B   \n",
       "4  I-200-19081-827349   CERTIFIED     2019-03-22    2019-03-28       H-1B   \n",
       "\n",
       "  EMPLOYMENT_START_DATE EMPLOYMENT_END_DATE                  EMPLOYER_NAME  \\\n",
       "0            2018-09-26          2021-09-26                NES GLOBAL, LLC   \n",
       "1            2018-11-27          2021-11-26  UNIVERSITY OF TEXAS AT DALLAS   \n",
       "2            2018-11-28          2021-11-27  UNIVERSITY OF TEXAS AT DALLAS   \n",
       "3            2019-01-01          2022-01-01               BILLY R. WINGARD   \n",
       "4            2019-04-01          2022-04-01        COATES,BRIGHT & BAY LLC   \n",
       "\n",
       "         EMPLOYER_ADDRESS EMPLOYER_CITY  ... WAGE_RATE_OF_PAY_FROM  \\\n",
       "0        800 GESSNER ROAD       HOUSTON  ...                 36.00   \n",
       "1       800 W CAMPBELL RD    RICHARDSON  ...              50000.00   \n",
       "2       800 W CAMPBELL RD    RICHARDSON  ...             207777.00   \n",
       "3     4705 EDGEWOOD DRIVE      NEW BERN  ...                  7.95   \n",
       "4  2820 PAN AMERICAN BLVD    NORTH PORT  ...                  8.46   \n",
       "\n",
       "  WAGE_RATE_OF_PAY_TO WAGE_UNIT_OF_PAY H1B_DEPENDENT WORKSITE_CITY  \\\n",
       "0                0.00             Hour             N       HOUSTON   \n",
       "1                0.00             Year             N    Richardson   \n",
       "2                0.00             Year             N    Richardson   \n",
       "3                7.95             Hour             N      New Bern   \n",
       "4               10.00             Hour             Y    NORTH PORT   \n",
       "\n",
       "  WORKSITE_COUNTY WORKSITE_STATE WORKSITE_POSTAL_CODE WILLFUL_VIOLATOR  \\\n",
       "0              TX             FL                77024                N   \n",
       "1              TX             TX                75080                N   \n",
       "2          Dallas             TX                75080                N   \n",
       "3          Craven             NC                28562                N   \n",
       "4         florida             FL                34287                N   \n",
       "\n",
       "  SUPPORT_H1B  \n",
       "0         NaN  \n",
       "1         NaN  \n",
       "2         NaN  \n",
       "3         NaN  \n",
       "4           N  \n",
       "\n",
       "[5 rows x 46 columns]"
      ]
     },
     "execution_count": 4,
     "metadata": {},
     "output_type": "execute_result"
    }
   ],
   "source": [
    "clean = H1b.dropna(axis = 1, thresh= H1b.shape[0] / 3)\n",
    "clean = clean.query('VISA_CLASS == \"H-1B\"')\n",
    "clean = clean.query('CASE_STATUS != \"WITHDRAWN\"')\n",
    "clean.head()"
   ]
  },
  {
   "cell_type": "markdown",
   "metadata": {},
   "source": [
    "## EDA PART 1. Individual variables "
   ]
  },
  {
   "cell_type": "markdown",
   "metadata": {},
   "source": [
    "## 1. Case Status for H1-B applications (CASE_STATUS)"
   ]
  },
  {
   "cell_type": "code",
   "execution_count": 5,
   "metadata": {},
   "outputs": [
    {
     "data": {
      "text/plain": [
       "count        629857\n",
       "unique            3\n",
       "top       CERTIFIED\n",
       "freq         584269\n",
       "Name: CASE_STATUS, dtype: object"
      ]
     },
     "execution_count": 5,
     "metadata": {},
     "output_type": "execute_result"
    }
   ],
   "source": [
    "clean['CASE_STATUS'].describe()"
   ]
  },
  {
   "cell_type": "code",
   "execution_count": 6,
   "metadata": {},
   "outputs": [
    {
     "data": {
      "text/plain": [
       "array(['DENIED', 'CERTIFIED', 'CERTIFIED-WITHDRAWN'], dtype=object)"
      ]
     },
     "execution_count": 6,
     "metadata": {},
     "output_type": "execute_result"
    }
   ],
   "source": [
    "clean['CASE_STATUS'].unique()"
   ]
  },
  {
   "cell_type": "code",
   "execution_count": 7,
   "metadata": {},
   "outputs": [
    {
     "data": {
      "text/plain": [
       "CERTIFIED              0.927622\n",
       "CERTIFIED-WITHDRAWN    0.064176\n",
       "DENIED                 0.008202\n",
       "Name: CASE_STATUS, dtype: float64"
      ]
     },
     "execution_count": 7,
     "metadata": {},
     "output_type": "execute_result"
    }
   ],
   "source": [
    "clean['CASE_STATUS'].value_counts(normalize=True)"
   ]
  },
  {
   "cell_type": "code",
   "execution_count": 8,
   "metadata": {},
   "outputs": [],
   "source": [
    "case_status = clean['CASE_STATUS'].value_counts(normalize=True)"
   ]
  },
  {
   "cell_type": "code",
   "execution_count": 9,
   "metadata": {
    "scrolled": true
   },
   "outputs": [
    {
     "data": {
      "image/png": "[encoded data removed]",
      "text/plain": [
       "<Figure size 432x288 with 1 Axes>"
      ]
     },
     "metadata": {},
     "output_type": "display_data"
    }
   ],
   "source": [
    "plt.pie(case_status, labels = [\"CERTIFIED\",\"CERTIFIED-WITHDRAWN\",\"DENIED\"],\n",
    "autopct='%1.1f%%', shadow=True, startangle=140)\n",
    "plt.title(\"Case_Status\")\n",
    "plt.axis('equal')\n",
    "plt.show()"
   ]
  },
  {
   "cell_type": "markdown",
   "metadata": {},
   "source": [
    "CASE_STATUS shows whether an application has the eligibility to pass into the lottery part of H1-B selection. This is the very first selection process, which measures a candidate in several ways, including whether he requires a prestigious degree, whether the function of the job in the application reflects his expertise (more specifically, his degree), and whether this employer holds the eligibility to hire H1B employees.\n",
    "\n",
    "From the summary of the data, we can see that among the total 629857 entries, there are three categories, 'DENIED', 'CERTIFIED', 'CERTIFIED-WITHDRAWN', each representing a status for whether a certain application is certified or not. The category with most entries is \"CERTIFIED\", representing 92.8% of the total entries; the category with least entries is \"DENIED\", only 0.8% of total entries. Therefore, we can conclude from the graph above that most of the applications get certified. We are interested in why there are DENIED applications, and, more specifically, whether other variables in the dataset affects an applicant's eligibility of getting CERTIFIED."
   ]
  },
  {
   "cell_type": "markdown",
   "metadata": {},
   "source": [
    "## 2. Employment Start & End Date (EMPLOYMENT_END_DATE & EMPLOYMENT_START_DATE)"
   ]
  },
  {
   "cell_type": "code",
   "execution_count": 10,
   "metadata": {},
   "outputs": [
    {
     "data": {
      "text/plain": [
       "count                  629857\n",
       "unique                   1603\n",
       "top       2022-08-31 00:00:00\n",
       "freq                    14164\n",
       "first     2017-09-01 00:00:00\n",
       "last      2023-12-31 00:00:00\n",
       "Name: EMPLOYMENT_END_DATE, dtype: object"
      ]
     },
     "execution_count": 10,
     "metadata": {},
     "output_type": "execute_result"
    }
   ],
   "source": [
    "clean.EMPLOYMENT_END_DATE.describe()"
   ]
  },
  {
   "cell_type": "code",
   "execution_count": 11,
   "metadata": {},
   "outputs": [
    {
     "data": {
      "text/plain": [
       "count                  629857\n",
       "unique                   1547\n",
       "top       2019-09-01 00:00:00\n",
       "freq                    18951\n",
       "first     2014-09-01 00:00:00\n",
       "last      2020-03-31 00:00:00\n",
       "Name: EMPLOYMENT_START_DATE, dtype: object"
      ]
     },
     "execution_count": 11,
     "metadata": {},
     "output_type": "execute_result"
    }
   ],
   "source": [
    "clean.EMPLOYMENT_START_DATE.describe()"
   ]
  },
  {
   "cell_type": "markdown",
   "metadata": {},
   "source": [
    "EMPLOYMENT_END_DATE and EMPLOYMENT_START_DATE represent for the end and start date for the applicant's employment contract in this company in the application. The range of EMPLOYMENT_END_DATE is from 2017-09-01 to 2023-12-31, with the entry of top frequencies being 2022-08-31; and the range of EMPLOYMENT_START_DATE is from 2014-09-01 to 2020-03-31, with the entry of top frequencies being 2019-09-01.\n",
    "\n",
    "We are interested in exploring how often employers/applicants update their H1-B. We can indicate this time interval of update from the duration of the employment for these applications. Therefore, we need to take the difference between EMPLOYMENT_START_DATE and EMPLOYMENT_END_DATE."
   ]
  },
  {
   "cell_type": "code",
   "execution_count": 12,
   "metadata": {},
   "outputs": [],
   "source": [
    "clean['Duration'] = clean.EMPLOYMENT_END_DATE - clean.EMPLOYMENT_START_DATE"
   ]
  },
  {
   "cell_type": "code",
   "execution_count": 13,
   "metadata": {
    "scrolled": true
   },
   "outputs": [
    {
     "data": {
      "text/plain": [
       "Duration\n",
       "-1 days      4\n",
       "1 days       7\n",
       "2 days       2\n",
       "3 days       2\n",
       "4 days       7\n",
       "            ..\n",
       "1112 days    1\n",
       "1126 days    1\n",
       "1165 days    1\n",
       "1357 days    1\n",
       "1460 days    5\n",
       "Name: CASE_STATUS, Length: 1105, dtype: int64"
      ]
     },
     "execution_count": 13,
     "metadata": {},
     "output_type": "execute_result"
    }
   ],
   "source": [
    "clean.groupby('Duration')['CASE_STATUS'].count()"
   ]
  },
  {
   "cell_type": "markdown",
   "metadata": {},
   "source": [
    "Here, the -1 days caught our eyes. Why is there -1 days if all EMPLOYMENT_END_DATE is later than EMPLOYMENT_START_DATE?"
   ]
  },
  {
   "cell_type": "code",
   "execution_count": 14,
   "metadata": {},
   "outputs": [
    {
     "data": {
      "text/html": [
       "<div>\n",
       "<style scoped>\n",
       "    .dataframe tbody tr th:only-of-type {\n",
       "        vertical-align: middle;\n",
       "    }\n",
       "\n",
       "    .dataframe tbody tr th {\n",
       "        vertical-align: top;\n",
       "    }\n",
       "\n",
       "    .dataframe thead th {\n",
       "        text-align: right;\n",
       "    }\n",
       "</style>\n",
       "<table border=\"1\" class=\"dataframe\">\n",
       "  <thead>\n",
       "    <tr style=\"text-align: right;\">\n",
       "      <th></th>\n",
       "      <th>CASE_NUMBER</th>\n",
       "      <th>CASE_STATUS</th>\n",
       "      <th>CASE_SUBMITTED</th>\n",
       "      <th>DECISION_DATE</th>\n",
       "      <th>VISA_CLASS</th>\n",
       "      <th>EMPLOYMENT_START_DATE</th>\n",
       "      <th>EMPLOYMENT_END_DATE</th>\n",
       "      <th>EMPLOYER_NAME</th>\n",
       "      <th>EMPLOYER_ADDRESS</th>\n",
       "      <th>EMPLOYER_CITY</th>\n",
       "      <th>...</th>\n",
       "      <th>WAGE_RATE_OF_PAY_TO</th>\n",
       "      <th>WAGE_UNIT_OF_PAY</th>\n",
       "      <th>H1B_DEPENDENT</th>\n",
       "      <th>WORKSITE_CITY</th>\n",
       "      <th>WORKSITE_COUNTY</th>\n",
       "      <th>WORKSITE_STATE</th>\n",
       "      <th>WORKSITE_POSTAL_CODE</th>\n",
       "      <th>WILLFUL_VIOLATOR</th>\n",
       "      <th>SUPPORT_H1B</th>\n",
       "      <th>Duration</th>\n",
       "    </tr>\n",
       "  </thead>\n",
       "  <tbody>\n",
       "    <tr>\n",
       "      <td>213743</td>\n",
       "      <td>I-200-19064-915612</td>\n",
       "      <td>DENIED</td>\n",
       "      <td>2019-03-05</td>\n",
       "      <td>2019-03-11</td>\n",
       "      <td>H-1B</td>\n",
       "      <td>2019-09-01</td>\n",
       "      <td>2019-08-31</td>\n",
       "      <td>VSION TECHNOLOGIES INC.</td>\n",
       "      <td>507 DENALI PASS SUITE 602</td>\n",
       "      <td>CEDAR PARK</td>\n",
       "      <td>...</td>\n",
       "      <td>116000.0</td>\n",
       "      <td>Year</td>\n",
       "      <td>Y</td>\n",
       "      <td>Princeton</td>\n",
       "      <td>Mercer</td>\n",
       "      <td>NJ</td>\n",
       "      <td>08540</td>\n",
       "      <td>N</td>\n",
       "      <td>Y</td>\n",
       "      <td>-1 days</td>\n",
       "    </tr>\n",
       "    <tr>\n",
       "      <td>265353</td>\n",
       "      <td>I-200-19228-946322</td>\n",
       "      <td>DENIED</td>\n",
       "      <td>2019-08-26</td>\n",
       "      <td>2019-08-27</td>\n",
       "      <td>H-1B</td>\n",
       "      <td>2019-08-23</td>\n",
       "      <td>2019-08-22</td>\n",
       "      <td>SERVICENOW, INC.</td>\n",
       "      <td>2225 LAWSON LANE</td>\n",
       "      <td>SANTA CLARA</td>\n",
       "      <td>...</td>\n",
       "      <td>140000.0</td>\n",
       "      <td>Year</td>\n",
       "      <td>N</td>\n",
       "      <td>Santa Clara</td>\n",
       "      <td>Santa Clara</td>\n",
       "      <td>CA</td>\n",
       "      <td>95054</td>\n",
       "      <td>N</td>\n",
       "      <td>NaN</td>\n",
       "      <td>-1 days</td>\n",
       "    </tr>\n",
       "    <tr>\n",
       "      <td>320518</td>\n",
       "      <td>I-200-19158-430239</td>\n",
       "      <td>DENIED</td>\n",
       "      <td>2019-06-07</td>\n",
       "      <td>2019-06-11</td>\n",
       "      <td>H-1B</td>\n",
       "      <td>2019-11-29</td>\n",
       "      <td>2019-11-28</td>\n",
       "      <td>GOOGLE LLC</td>\n",
       "      <td>1600 AMPHITHEATRE PARKWAY</td>\n",
       "      <td>MOUNTAIN VIEW</td>\n",
       "      <td>...</td>\n",
       "      <td>204000.0</td>\n",
       "      <td>Year</td>\n",
       "      <td>N</td>\n",
       "      <td>Mountain View</td>\n",
       "      <td>Santa Clara</td>\n",
       "      <td>CA</td>\n",
       "      <td>94043</td>\n",
       "      <td>N</td>\n",
       "      <td>NaN</td>\n",
       "      <td>-1 days</td>\n",
       "    </tr>\n",
       "    <tr>\n",
       "      <td>491745</td>\n",
       "      <td>I-200-19260-866082</td>\n",
       "      <td>DENIED</td>\n",
       "      <td>2019-09-17</td>\n",
       "      <td>2019-09-18</td>\n",
       "      <td>H-1B</td>\n",
       "      <td>2019-09-17</td>\n",
       "      <td>2019-09-16</td>\n",
       "      <td>CIBER GLOBAL LLC</td>\n",
       "      <td>3270 WEST BIG BEAVER ROAD</td>\n",
       "      <td>TROY</td>\n",
       "      <td>...</td>\n",
       "      <td>NaN</td>\n",
       "      <td>Year</td>\n",
       "      <td>N</td>\n",
       "      <td>Baton Rouge</td>\n",
       "      <td>East Baton Rouge Parish</td>\n",
       "      <td>LA</td>\n",
       "      <td>70802</td>\n",
       "      <td>N</td>\n",
       "      <td>NaN</td>\n",
       "      <td>-1 days</td>\n",
       "    </tr>\n",
       "  </tbody>\n",
       "</table>\n",
       "<p>4 rows × 47 columns</p>\n",
       "</div>"
      ],
      "text/plain": [
       "               CASE_NUMBER CASE_STATUS CASE_SUBMITTED DECISION_DATE  \\\n",
       "213743  I-200-19064-915612      DENIED     2019-03-05    2019-03-11   \n",
       "265353  I-200-19228-946322      DENIED     2019-08-26    2019-08-27   \n",
       "320518  I-200-19158-430239      DENIED     2019-06-07    2019-06-11   \n",
       "491745  I-200-19260-866082      DENIED     2019-09-17    2019-09-18   \n",
       "\n",
       "       VISA_CLASS EMPLOYMENT_START_DATE EMPLOYMENT_END_DATE  \\\n",
       "213743       H-1B            2019-09-01          2019-08-31   \n",
       "265353       H-1B            2019-08-23          2019-08-22   \n",
       "320518       H-1B            2019-11-29          2019-11-28   \n",
       "491745       H-1B            2019-09-17          2019-09-16   \n",
       "\n",
       "                  EMPLOYER_NAME           EMPLOYER_ADDRESS  EMPLOYER_CITY  \\\n",
       "213743  VSION TECHNOLOGIES INC.  507 DENALI PASS SUITE 602     CEDAR PARK   \n",
       "265353         SERVICENOW, INC.           2225 LAWSON LANE    SANTA CLARA   \n",
       "320518               GOOGLE LLC  1600 AMPHITHEATRE PARKWAY  MOUNTAIN VIEW   \n",
       "491745         CIBER GLOBAL LLC  3270 WEST BIG BEAVER ROAD           TROY   \n",
       "\n",
       "        ... WAGE_RATE_OF_PAY_TO WAGE_UNIT_OF_PAY H1B_DEPENDENT  WORKSITE_CITY  \\\n",
       "213743  ...            116000.0             Year             Y      Princeton   \n",
       "265353  ...            140000.0             Year             N    Santa Clara   \n",
       "320518  ...            204000.0             Year             N  Mountain View   \n",
       "491745  ...                 NaN             Year             N    Baton Rouge   \n",
       "\n",
       "                WORKSITE_COUNTY WORKSITE_STATE WORKSITE_POSTAL_CODE  \\\n",
       "213743                   Mercer             NJ                08540   \n",
       "265353              Santa Clara             CA                95054   \n",
       "320518              Santa Clara             CA                94043   \n",
       "491745  East Baton Rouge Parish             LA                70802   \n",
       "\n",
       "       WILLFUL_VIOLATOR SUPPORT_H1B Duration  \n",
       "213743                N           Y  -1 days  \n",
       "265353                N         NaN  -1 days  \n",
       "320518                N         NaN  -1 days  \n",
       "491745                N         NaN  -1 days  \n",
       "\n",
       "[4 rows x 47 columns]"
      ]
     },
     "execution_count": 14,
     "metadata": {},
     "output_type": "execute_result"
    }
   ],
   "source": [
    "clean[clean['Duration'] == '-1 days +00:00:00']"
   ]
  },
  {
   "cell_type": "markdown",
   "metadata": {},
   "source": [
    "These data don't make sense and there must be something wrong with the entries for the EMPLOYMENT_START_DATE and EMPLOYMENT_END_DATE (this is probably why they got denied), so we drop these entries."
   ]
  },
  {
   "cell_type": "code",
   "execution_count": 15,
   "metadata": {},
   "outputs": [],
   "source": [
    "clean_timediff = clean[clean['Duration'] != '-1 days +00:00:00']"
   ]
  },
  {
   "cell_type": "code",
   "execution_count": 16,
   "metadata": {},
   "outputs": [
    {
     "data": {
      "text/plain": [
       "Text(0.5, 1.0, 'Frequency for Duration of Employment')"
      ]
     },
     "execution_count": 16,
     "metadata": {},
     "output_type": "execute_result"
    },
    {
     "data": {
      "image/png": "[encoded data removed]",
      "text/plain": [
       "<Figure size 432x288 with 1 Axes>"
      ]
     },
     "metadata": {
      "needs_background": "light"
     },
     "output_type": "display_data"
    }
   ],
   "source": [
    "clean_timediff.groupby('Duration')['CASE_STATUS'].count().plot()\n",
    "plt.title(\"Frequency for Duration of Employment\")"
   ]
  },
  {
   "cell_type": "markdown",
   "metadata": {},
   "source": [
    "From the frequency graph, most of entries concentrate in a certain narrow interval. So we further narrow down the range of employment duration."
   ]
  },
  {
   "cell_type": "code",
   "execution_count": 17,
   "metadata": {},
   "outputs": [
    {
     "name": "stdout",
     "output_type": "stream",
     "text": [
      "count                       629853\n",
      "mean     1067 days 03:48:01.135373\n",
      "std       126 days 07:42:46.779916\n",
      "min                1 days 00:00:00\n",
      "25%             1095 days 00:00:00\n",
      "50%             1095 days 00:00:00\n",
      "75%             1096 days 00:00:00\n",
      "max             1460 days 00:00:00\n",
      "Name: Duration, dtype: object\n"
     ]
    }
   ],
   "source": [
    "print(clean_timediff.Duration.describe())"
   ]
  },
  {
   "cell_type": "code",
   "execution_count": 18,
   "metadata": {},
   "outputs": [
    {
     "data": {
      "text/plain": [
       "1104"
      ]
     },
     "execution_count": 18,
     "metadata": {},
     "output_type": "execute_result"
    }
   ],
   "source": [
    "len(clean_timediff.groupby('Duration')['CASE_STATUS'].count())"
   ]
  },
  {
   "cell_type": "code",
   "execution_count": 19,
   "metadata": {
    "scrolled": true
   },
   "outputs": [
    {
     "data": {
      "text/plain": [
       "Timedelta('1095 days 00:00:00')"
      ]
     },
     "execution_count": 19,
     "metadata": {},
     "output_type": "execute_result"
    }
   ],
   "source": [
    "clean_timediff.groupby('Duration')['CASE_STATUS'].count().idxmax()"
   ]
  },
  {
   "cell_type": "code",
   "execution_count": 20,
   "metadata": {},
   "outputs": [
    {
     "data": {
      "text/plain": [
       "388176"
      ]
     },
     "execution_count": 20,
     "metadata": {},
     "output_type": "execute_result"
    }
   ],
   "source": [
    "clean_timediff.groupby('Duration')['CASE_STATUS'].count().max()"
   ]
  },
  {
   "cell_type": "code",
   "execution_count": 21,
   "metadata": {
    "scrolled": true
   },
   "outputs": [
    {
     "data": {
      "text/plain": [
       "61.629618339517314"
      ]
     },
     "execution_count": 21,
     "metadata": {},
     "output_type": "execute_result"
    }
   ],
   "source": [
    "(clean_timediff.groupby('Duration')['CASE_STATUS'].count().max())/clean_timediff.shape[0]*100"
   ]
  },
  {
   "cell_type": "markdown",
   "metadata": {},
   "source": [
    "The summary of time difference between employment start and end date illustrates that the application renewal time interval range from 1 days to 1460 days (4 years). The time interval with the most entries (61.63% of total entries) is 1095 days (3 years), which means that usually the working contract between an international student and the company lasts three years, so that usually people need to renew their H1-B visa every three years."
   ]
  },
  {
   "cell_type": "markdown",
   "metadata": {},
   "source": [
    "## 10. Application submitted date and Decision announced date (CASE_SUBMITTED, DECISION_DATE)"
   ]
  },
  {
   "cell_type": "code",
   "execution_count": 22,
   "metadata": {},
   "outputs": [
    {
     "data": {
      "text/plain": [
       "count                  629857\n",
       "unique                   1300\n",
       "top       2019-03-13 00:00:00\n",
       "freq                    10885\n",
       "first     2014-03-04 00:00:00\n",
       "last      2019-09-28 00:00:00\n",
       "Name: CASE_SUBMITTED, dtype: object"
      ]
     },
     "execution_count": 22,
     "metadata": {},
     "output_type": "execute_result"
    }
   ],
   "source": [
    "clean.CASE_SUBMITTED.describe()"
   ]
  },
  {
   "cell_type": "code",
   "execution_count": 23,
   "metadata": {},
   "outputs": [
    {
     "data": {
      "text/plain": [
       "count                  629857\n",
       "unique                    348\n",
       "top       2019-03-21 00:00:00\n",
       "freq                    17412\n",
       "first     2018-10-01 00:00:00\n",
       "last      2019-09-30 00:00:00\n",
       "Name: DECISION_DATE, dtype: object"
      ]
     },
     "execution_count": 23,
     "metadata": {},
     "output_type": "execute_result"
    }
   ],
   "source": [
    "clean.DECISION_DATE.describe()"
   ]
  },
  {
   "cell_type": "markdown",
   "metadata": {},
   "source": [
    "CASE_SUBMITTED and DECISION_DATE represent for the date the application was submitted and the date when the Chicago National Processing Center makes a decision on whether this application gets certified. The range of CASE_SUBMITTED is from 2014-03-04 to 2019-09-28, with the entry of top frequencies being 2019-03-13; and the range of EMPLOYMENT_START_DATE is from 2018-10-01 to 2019-09-30, with the entry of top frequencies being 2019-03-21.\n",
    "\n",
    "We are interested in which time of the year does the most of the employers apply for H1-B visas for their employees, and which time of the year does most of the application certification get decided? "
   ]
  },
  {
   "cell_type": "code",
   "execution_count": 24,
   "metadata": {},
   "outputs": [],
   "source": [
    "clean['CASE_SUBMITTED_MONTH']=clean['CASE_SUBMITTED'].dt.month"
   ]
  },
  {
   "cell_type": "code",
   "execution_count": 25,
   "metadata": {},
   "outputs": [
    {
     "data": {
      "text/plain": [
       "3     0.314562\n",
       "2     0.131428\n",
       "4     0.074396\n",
       "5     0.065985\n",
       "1     0.062438\n",
       "6     0.058917\n",
       "8     0.057804\n",
       "7     0.054554\n",
       "9     0.049932\n",
       "10    0.047563\n",
       "11    0.042691\n",
       "12    0.039731\n",
       "Name: CASE_SUBMITTED_MONTH, dtype: float64"
      ]
     },
     "execution_count": 25,
     "metadata": {},
     "output_type": "execute_result"
    }
   ],
   "source": [
    "clean['CASE_SUBMITTED_MONTH'].value_counts(normalize=True)"
   ]
  },
  {
   "cell_type": "code",
   "execution_count": 26,
   "metadata": {},
   "outputs": [
    {
     "data": {
      "text/plain": [
       "Text(0.5, 1.0, 'CASE_SUBMITTED_MONTH')"
      ]
     },
     "execution_count": 26,
     "metadata": {},
     "output_type": "execute_result"
    },
    {
     "data": {
      "image/png": "[encoded data removed]",
      "text/plain": [
       "<Figure size 432x288 with 1 Axes>"
      ]
     },
     "metadata": {
      "needs_background": "light"
     },
     "output_type": "display_data"
    }
   ],
   "source": [
    "CASE_SUBMITTED_MONTH = clean['CASE_SUBMITTED_MONTH'].value_counts(normalize=True).reset_index()\n",
    "CASE_SUBMITTED_MONTH.columns = [\"month\",\"frequency\"]\n",
    "CASE_SUBMITTED_MONTH = CASE_SUBMITTED_MONTH.sort_values('month')\n",
    "CASE_SUBMITTED_MONTH.plot(kind='bar',x='month',y='frequency')\n",
    "plt.title(\"CASE_SUBMITTED_MONTH\")"
   ]
  },
  {
   "cell_type": "code",
   "execution_count": 27,
   "metadata": {},
   "outputs": [],
   "source": [
    "clean['DECISION_DATE_MONTH']=clean['DECISION_DATE'].dt.month"
   ]
  },
  {
   "cell_type": "code",
   "execution_count": 28,
   "metadata": {},
   "outputs": [
    {
     "data": {
      "text/plain": [
       "3     0.310896\n",
       "2     0.106494\n",
       "4     0.086577\n",
       "5     0.068725\n",
       "8     0.062005\n",
       "7     0.061400\n",
       "6     0.057180\n",
       "1     0.053314\n",
       "9     0.052529\n",
       "10    0.050959\n",
       "12    0.044967\n",
       "11    0.044955\n",
       "Name: DECISION_DATE_MONTH, dtype: float64"
      ]
     },
     "execution_count": 28,
     "metadata": {},
     "output_type": "execute_result"
    }
   ],
   "source": [
    "clean['DECISION_DATE_MONTH'].value_counts(normalize=True)"
   ]
  },
  {
   "cell_type": "code",
   "execution_count": 29,
   "metadata": {
    "scrolled": true
   },
   "outputs": [
    {
     "data": {
      "text/plain": [
       "Text(0.5, 1.0, 'DECISION_DATE_MONTH')"
      ]
     },
     "execution_count": 29,
     "metadata": {},
     "output_type": "execute_result"
    },
    {
     "data": {
      "image/png": "[encoded data removed]",
      "text/plain": [
       "<Figure size 432x288 with 1 Axes>"
      ]
     },
     "metadata": {
      "needs_background": "light"
     },
     "output_type": "display_data"
    }
   ],
   "source": [
    "DECISION_DATE_MONTH = clean['DECISION_DATE_MONTH'].value_counts(normalize=True).reset_index()\n",
    "DECISION_DATE_MONTH.columns = [\"month\",\"frequency\"]\n",
    "DECISION_DATE_MONTH = DECISION_DATE_MONTH.sort_values('month')\n",
    "DECISION_DATE_MONTH.plot(kind='bar',x='month',y='frequency')\n",
    "plt.title(\"DECISION_DATE_MONTH\")"
   ]
  },
  {
   "cell_type": "markdown",
   "metadata": {},
   "source": [
    "The results from CASE_SUBMITTED illustrates the highest frequency during March. Therefore, the month that employers usually submit the application for H1-B is March. This may serve as an indicator for international applicants to arrange their recruitment timeline ahead of time (before March), so that they can make sure they get hired before the H1-B submission busy season, and don't miss out this opportunity. \n",
    "\n",
    "The results from DECISION_DATE tells us usually when the decisions are made during March. Interestingly, the distribution of decision date and the submission date is rather similar.\n",
    "\n",
    "However, besides understanding the two dates themselves, we are also interested in the question that, after employers submitting the application, how long does it usually take for the Chicago National Processing Center to process the applications and make the decision for certification?\n",
    "\n",
    "To make further analysis, we need to take the difference between these two dates."
   ]
  },
  {
   "cell_type": "code",
   "execution_count": 30,
   "metadata": {},
   "outputs": [],
   "source": [
    "clean['DECISION_TIME_INTERVAL'] = clean.DECISION_DATE - clean.CASE_SUBMITTED"
   ]
  },
  {
   "cell_type": "code",
   "execution_count": 31,
   "metadata": {
    "scrolled": true
   },
   "outputs": [
    {
     "data": {
      "text/plain": [
       "DECISION_TIME_INTERVAL\n",
       "0 days           3\n",
       "1 days         760\n",
       "2 days         942\n",
       "3 days         464\n",
       "4 days       96027\n",
       "             ...  \n",
       "1275 days        1\n",
       "1331 days        3\n",
       "1371 days        2\n",
       "1440 days        1\n",
       "1827 days        1\n",
       "Name: CASE_STATUS, Length: 1270, dtype: int64"
      ]
     },
     "execution_count": 31,
     "metadata": {},
     "output_type": "execute_result"
    }
   ],
   "source": [
    "clean.groupby('DECISION_TIME_INTERVAL')['CASE_STATUS'].count()"
   ]
  },
  {
   "cell_type": "markdown",
   "metadata": {},
   "source": [
    "Here, just like what we inspected above, when we are analyzing EMPLOYMENT_END_DATE and EMPLOYMENT_START_DATE, there is something odd with the time differences, which shows 0 days. How can one get decided to be certified or not on the same day of submitting the application? "
   ]
  },
  {
   "cell_type": "code",
   "execution_count": 32,
   "metadata": {},
   "outputs": [
    {
     "data": {
      "text/html": [
       "<div>\n",
       "<style scoped>\n",
       "    .dataframe tbody tr th:only-of-type {\n",
       "        vertical-align: middle;\n",
       "    }\n",
       "\n",
       "    .dataframe tbody tr th {\n",
       "        vertical-align: top;\n",
       "    }\n",
       "\n",
       "    .dataframe thead th {\n",
       "        text-align: right;\n",
       "    }\n",
       "</style>\n",
       "<table border=\"1\" class=\"dataframe\">\n",
       "  <thead>\n",
       "    <tr style=\"text-align: right;\">\n",
       "      <th></th>\n",
       "      <th>CASE_NUMBER</th>\n",
       "      <th>CASE_STATUS</th>\n",
       "      <th>CASE_SUBMITTED</th>\n",
       "      <th>DECISION_DATE</th>\n",
       "      <th>VISA_CLASS</th>\n",
       "      <th>EMPLOYMENT_START_DATE</th>\n",
       "      <th>EMPLOYMENT_END_DATE</th>\n",
       "      <th>EMPLOYER_NAME</th>\n",
       "      <th>EMPLOYER_ADDRESS</th>\n",
       "      <th>EMPLOYER_CITY</th>\n",
       "      <th>...</th>\n",
       "      <th>WORKSITE_CITY</th>\n",
       "      <th>WORKSITE_COUNTY</th>\n",
       "      <th>WORKSITE_STATE</th>\n",
       "      <th>WORKSITE_POSTAL_CODE</th>\n",
       "      <th>WILLFUL_VIOLATOR</th>\n",
       "      <th>SUPPORT_H1B</th>\n",
       "      <th>Duration</th>\n",
       "      <th>CASE_SUBMITTED_MONTH</th>\n",
       "      <th>DECISION_DATE_MONTH</th>\n",
       "      <th>DECISION_TIME_INTERVAL</th>\n",
       "    </tr>\n",
       "  </thead>\n",
       "  <tbody>\n",
       "    <tr>\n",
       "      <td>567726</td>\n",
       "      <td>I-200-19204-056827</td>\n",
       "      <td>DENIED</td>\n",
       "      <td>2019-07-24</td>\n",
       "      <td>2019-07-24</td>\n",
       "      <td>H-1B</td>\n",
       "      <td>2019-07-23</td>\n",
       "      <td>2022-07-23</td>\n",
       "      <td>DATA SOLUTIONS INC.</td>\n",
       "      <td>28345 BECK ROAD, SUITE 406</td>\n",
       "      <td>WIXOM</td>\n",
       "      <td>...</td>\n",
       "      <td>Cupertino</td>\n",
       "      <td>Santa Clara</td>\n",
       "      <td>CA</td>\n",
       "      <td>95014</td>\n",
       "      <td>N</td>\n",
       "      <td>NaN</td>\n",
       "      <td>1096 days</td>\n",
       "      <td>7</td>\n",
       "      <td>7</td>\n",
       "      <td>0 days</td>\n",
       "    </tr>\n",
       "    <tr>\n",
       "      <td>633189</td>\n",
       "      <td>I-200-19246-529324</td>\n",
       "      <td>DENIED</td>\n",
       "      <td>2019-09-04</td>\n",
       "      <td>2019-09-04</td>\n",
       "      <td>H-1B</td>\n",
       "      <td>2019-09-04</td>\n",
       "      <td>2022-09-04</td>\n",
       "      <td>ERNST &amp; YOUNG U.S.LLP</td>\n",
       "      <td>200 PLAZA DRIVE</td>\n",
       "      <td>SECAUCUS</td>\n",
       "      <td>...</td>\n",
       "      <td>Louisville</td>\n",
       "      <td>Jefferson</td>\n",
       "      <td>KY</td>\n",
       "      <td>40202</td>\n",
       "      <td>N</td>\n",
       "      <td>NaN</td>\n",
       "      <td>1096 days</td>\n",
       "      <td>9</td>\n",
       "      <td>9</td>\n",
       "      <td>0 days</td>\n",
       "    </tr>\n",
       "    <tr>\n",
       "      <td>662351</td>\n",
       "      <td>I-200-19198-968145</td>\n",
       "      <td>DENIED</td>\n",
       "      <td>2019-08-08</td>\n",
       "      <td>2019-08-08</td>\n",
       "      <td>H-1B</td>\n",
       "      <td>2019-07-22</td>\n",
       "      <td>2022-07-22</td>\n",
       "      <td>ERNST &amp; YOUNG U.S. LLP</td>\n",
       "      <td>200 PLAZA DRIVE</td>\n",
       "      <td>SECAUCUS</td>\n",
       "      <td>...</td>\n",
       "      <td>Bellevue</td>\n",
       "      <td>King</td>\n",
       "      <td>WA</td>\n",
       "      <td>98008</td>\n",
       "      <td>N</td>\n",
       "      <td>NaN</td>\n",
       "      <td>1096 days</td>\n",
       "      <td>8</td>\n",
       "      <td>8</td>\n",
       "      <td>0 days</td>\n",
       "    </tr>\n",
       "  </tbody>\n",
       "</table>\n",
       "<p>3 rows × 50 columns</p>\n",
       "</div>"
      ],
      "text/plain": [
       "               CASE_NUMBER CASE_STATUS CASE_SUBMITTED DECISION_DATE  \\\n",
       "567726  I-200-19204-056827      DENIED     2019-07-24    2019-07-24   \n",
       "633189  I-200-19246-529324      DENIED     2019-09-04    2019-09-04   \n",
       "662351  I-200-19198-968145      DENIED     2019-08-08    2019-08-08   \n",
       "\n",
       "       VISA_CLASS EMPLOYMENT_START_DATE EMPLOYMENT_END_DATE  \\\n",
       "567726       H-1B            2019-07-23          2022-07-23   \n",
       "633189       H-1B            2019-09-04          2022-09-04   \n",
       "662351       H-1B            2019-07-22          2022-07-22   \n",
       "\n",
       "                 EMPLOYER_NAME            EMPLOYER_ADDRESS EMPLOYER_CITY  ...  \\\n",
       "567726     DATA SOLUTIONS INC.  28345 BECK ROAD, SUITE 406         WIXOM  ...   \n",
       "633189   ERNST & YOUNG U.S.LLP             200 PLAZA DRIVE      SECAUCUS  ...   \n",
       "662351  ERNST & YOUNG U.S. LLP             200 PLAZA DRIVE      SECAUCUS  ...   \n",
       "\n",
       "       WORKSITE_CITY WORKSITE_COUNTY WORKSITE_STATE WORKSITE_POSTAL_CODE  \\\n",
       "567726     Cupertino     Santa Clara             CA                95014   \n",
       "633189    Louisville       Jefferson             KY                40202   \n",
       "662351      Bellevue            King             WA                98008   \n",
       "\n",
       "       WILLFUL_VIOLATOR SUPPORT_H1B  Duration CASE_SUBMITTED_MONTH  \\\n",
       "567726                N         NaN 1096 days                    7   \n",
       "633189                N         NaN 1096 days                    9   \n",
       "662351                N         NaN 1096 days                    8   \n",
       "\n",
       "       DECISION_DATE_MONTH DECISION_TIME_INTERVAL  \n",
       "567726                   7                 0 days  \n",
       "633189                   9                 0 days  \n",
       "662351                   8                 0 days  \n",
       "\n",
       "[3 rows x 50 columns]"
      ]
     },
     "execution_count": 32,
     "metadata": {},
     "output_type": "execute_result"
    }
   ],
   "source": [
    "clean[clean['DECISION_TIME_INTERVAL'] == '0 days +00:00:00']"
   ]
  },
  {
   "cell_type": "markdown",
   "metadata": {},
   "source": [
    "Looks like all three of them are denied, meaning that they got rejected the same day they submitted the application, probably because they didn't even pass the machine selection process or missed some crucial documents to make them immediately ineligible after submission."
   ]
  },
  {
   "cell_type": "code",
   "execution_count": 33,
   "metadata": {},
   "outputs": [
    {
     "data": {
      "text/plain": [
       "<matplotlib.axes._subplots.AxesSubplot at 0x130dd6050>"
      ]
     },
     "execution_count": 33,
     "metadata": {},
     "output_type": "execute_result"
    },
    {
     "data": {
      "image/png": "[encoded data removed]",
      "text/plain": [
       "<Figure size 432x288 with 1 Axes>"
      ]
     },
     "metadata": {
      "needs_background": "light"
     },
     "output_type": "display_data"
    }
   ],
   "source": [
    "clean.groupby('DECISION_TIME_INTERVAL')['CASE_STATUS'].count().plot()"
   ]
  },
  {
   "cell_type": "markdown",
   "metadata": {},
   "source": [
    "From the frequency graph, most of entries concentrate in a certain narrow interval. So we further narrow down the range of decision time interval."
   ]
  },
  {
   "cell_type": "code",
   "execution_count": 34,
   "metadata": {},
   "outputs": [
    {
     "name": "stdout",
     "output_type": "stream",
     "text": [
      "count                      629857\n",
      "mean      29 days 07:00:43.581305\n",
      "std      123 days 19:01:18.165148\n",
      "min               0 days 00:00:00\n",
      "25%               6 days 00:00:00\n",
      "50%               6 days 00:00:00\n",
      "75%               6 days 00:00:00\n",
      "max            1827 days 00:00:00\n",
      "Name: DECISION_TIME_INTERVAL, dtype: object\n"
     ]
    }
   ],
   "source": [
    "print(clean.DECISION_TIME_INTERVAL.describe())"
   ]
  },
  {
   "cell_type": "code",
   "execution_count": 35,
   "metadata": {},
   "outputs": [
    {
     "data": {
      "text/plain": [
       "1270"
      ]
     },
     "execution_count": 35,
     "metadata": {},
     "output_type": "execute_result"
    }
   ],
   "source": [
    "len(clean.groupby('DECISION_TIME_INTERVAL')['CASE_STATUS'].count())"
   ]
  },
  {
   "cell_type": "code",
   "execution_count": 36,
   "metadata": {
    "scrolled": true
   },
   "outputs": [
    {
     "data": {
      "text/plain": [
       "Timedelta('6 days 00:00:00')"
      ]
     },
     "execution_count": 36,
     "metadata": {},
     "output_type": "execute_result"
    }
   ],
   "source": [
    "clean.groupby('DECISION_TIME_INTERVAL')['CASE_STATUS'].count().idxmax()"
   ]
  },
  {
   "cell_type": "code",
   "execution_count": 37,
   "metadata": {},
   "outputs": [
    {
     "data": {
      "text/plain": [
       "392297"
      ]
     },
     "execution_count": 37,
     "metadata": {},
     "output_type": "execute_result"
    }
   ],
   "source": [
    "clean.groupby('DECISION_TIME_INTERVAL')['CASE_STATUS'].count().max()"
   ]
  },
  {
   "cell_type": "code",
   "execution_count": 38,
   "metadata": {
    "scrolled": true
   },
   "outputs": [
    {
     "data": {
      "text/plain": [
       "62.283502445793246"
      ]
     },
     "execution_count": 38,
     "metadata": {},
     "output_type": "execute_result"
    }
   ],
   "source": [
    "(clean.groupby('DECISION_TIME_INTERVAL')['CASE_STATUS'].count().max())/clean.shape[0]*100"
   ]
  },
  {
   "cell_type": "markdown",
   "metadata": {},
   "source": [
    "The summary of time difference between application submitted date and decision date illustrates that the decision time interval range from 0 days to 1827 days (5 years). The time interval with the most entries (62.28% of total entries) is 6 days, which means that usually after 6 days of submission will the decision on certification be made. This decision period is really short, showing that Chicago National Processing Center holds a relatively high efficiency of processing H1-B application certification, so the applicants will be notified shortly (usually within a week) of their certification status after submitting the applications."
   ]
  },
  {
   "cell_type": "markdown",
   "metadata": {},
   "source": [
    "## EDA PART 2. Relationship between variables"
   ]
  },
  {
   "cell_type": "markdown",
   "metadata": {},
   "source": [
    "## 2. Time pattern for H1-B submission of different industries (CASE_SUBMITTED vs SOC_CODE)"
   ]
  },
  {
   "cell_type": "markdown",
   "metadata": {},
   "source": [
    "From the analysis in EDA PART 1 individual variable analysis section 10, we've investigated the usual time interval between application submission date and decision date. However, as international students, we are also interested to know: when do different industries usually submit their H1-B applications? Are there certain industries submit their applications earlier than others? Probably the answers can provide guidance for students pursuing careers in those industries to arrange their recruitment timeline earlier to make sure that they catch up with the H1-B submission time pattern, since most companies only submit H1-B applications during a concentrated time interval each year, together for all employees who need this type of visa. \n",
    "\n",
    "In order to seperate different industries, we extract the first two digits of SOC_CODE, with a total of 55 numbers representing 55 different industries according to the Standard Occupational Classification Manual published by the US Executive Office of the President of the United States."
   ]
  },
  {
   "cell_type": "code",
   "execution_count": 39,
   "metadata": {},
   "outputs": [],
   "source": [
    "clean['INDUSTRY_CODE'] = clean.SOC_CODE.str[0:2]"
   ]
  },
  {
   "cell_type": "code",
   "execution_count": 40,
   "metadata": {},
   "outputs": [
    {
     "data": {
      "text/plain": [
       "array(['17', '19', '25', '39', '31', '49', '29', '13', '43', '11', '47',\n",
       "       '37', '35', '27', '45', '21', '51', '41', '23', '15', '53', '12',\n",
       "       '33', nan, 'OP'], dtype=object)"
      ]
     },
     "execution_count": 40,
     "metadata": {},
     "output_type": "execute_result"
    }
   ],
   "source": [
    "clean.INDUSTRY_CODE.unique()"
   ]
  },
  {
   "cell_type": "code",
   "execution_count": 41,
   "metadata": {},
   "outputs": [
    {
     "data": {
      "text/plain": [
       "25"
      ]
     },
     "execution_count": 41,
     "metadata": {},
     "output_type": "execute_result"
    }
   ],
   "source": [
    "len(clean.INDUSTRY_CODE.unique())"
   ]
  },
  {
   "cell_type": "markdown",
   "metadata": {},
   "source": [
    "The INDUSTRY_CODE was selected from SOC_CODE, which should be numbers from 1 to 55. However, here we saw nan and \"OP\". We are curious about what the data means. "
   ]
  },
  {
   "cell_type": "code",
   "execution_count": 42,
   "metadata": {},
   "outputs": [
    {
     "data": {
      "text/plain": [
       "487525    OPERATIONS RESEARCH ANALYSTS\n",
       "Name: SOC_CODE, dtype: object"
      ]
     },
     "execution_count": 42,
     "metadata": {},
     "output_type": "execute_result"
    }
   ],
   "source": [
    "clean.query('INDUSTRY_CODE == \"OP\"')['SOC_CODE']"
   ]
  },
  {
   "cell_type": "markdown",
   "metadata": {},
   "source": [
    "This entry is incorrect, where the SOC_NAME was mistakenly input into SOC_CODE, so we drop this row."
   ]
  },
  {
   "cell_type": "code",
   "execution_count": 43,
   "metadata": {},
   "outputs": [],
   "source": [
    "clean_socright = clean.query('INDUSTRY_CODE != \"OP\"')"
   ]
  },
  {
   "cell_type": "markdown",
   "metadata": {},
   "source": [
    "Now we investigate the nan in the INDUSTRY_CODE."
   ]
  },
  {
   "cell_type": "code",
   "execution_count": 44,
   "metadata": {},
   "outputs": [
    {
     "data": {
      "text/plain": [
       "400045    NaN\n",
       "427159    NaN\n",
       "435477    NaN\n",
       "460681    NaN\n",
       "Name: SOC_CODE, dtype: object"
      ]
     },
     "execution_count": 44,
     "metadata": {},
     "output_type": "execute_result"
    }
   ],
   "source": [
    "clean_socright[np.isnan(clean_socright.INDUSTRY_CODE.astype(float))]['SOC_CODE']"
   ]
  },
  {
   "cell_type": "markdown",
   "metadata": {},
   "source": [
    "The INDUSTRY_CODE which appears to be nan all have NaN in the original data SOC_CODE. Therefore, we drop these entries to make the data cleaner."
   ]
  },
  {
   "cell_type": "code",
   "execution_count": 45,
   "metadata": {},
   "outputs": [],
   "source": [
    "clean_socright = clean_socright[np.isnan(clean_socright.INDUSTRY_CODE.astype(float))==False]"
   ]
  },
  {
   "cell_type": "code",
   "execution_count": 46,
   "metadata": {},
   "outputs": [
    {
     "data": {
      "text/plain": [
       "array(['17', '19', '25', '39', '31', '49', '29', '13', '43', '11', '47',\n",
       "       '37', '35', '27', '45', '21', '51', '41', '23', '15', '53', '12',\n",
       "       '33'], dtype=object)"
      ]
     },
     "execution_count": 46,
     "metadata": {},
     "output_type": "execute_result"
    }
   ],
   "source": [
    "clean_socright.INDUSTRY_CODE.unique()"
   ]
  },
  {
   "cell_type": "code",
   "execution_count": 47,
   "metadata": {},
   "outputs": [
    {
     "data": {
      "text/plain": [
       "23"
      ]
     },
     "execution_count": 47,
     "metadata": {},
     "output_type": "execute_result"
    }
   ],
   "source": [
    "len(clean_socright['INDUSTRY_CODE'].unique())"
   ]
  },
  {
   "cell_type": "markdown",
   "metadata": {},
   "source": [
    "Now the data is cleaned up, with all INDUSTRY_CODE in the expected range of integers from 1 to 55. Next, we want to find out for different industries, when the companies usually submit their application. We only select top 6 most popular industries with the most applications this year for reference."
   ]
  },
  {
   "cell_type": "code",
   "execution_count": 48,
   "metadata": {},
   "outputs": [
    {
     "data": {
      "text/plain": [
       "['15', '17', '13', '19', '11', '29']"
      ]
     },
     "execution_count": 48,
     "metadata": {},
     "output_type": "execute_result"
    }
   ],
   "source": [
    "industry_top = list(clean_socright['INDUSTRY_CODE'].value_counts().head(6).index)\n",
    "industry_top"
   ]
  },
  {
   "cell_type": "code",
   "execution_count": 49,
   "metadata": {},
   "outputs": [
    {
     "data": {
      "text/plain": [
       "['Computer and Mathematical Occupations',\n",
       " 'Architecture and Engineering Occupations',\n",
       " 'Business and Financial Operations Occupations',\n",
       " 'Life, Physical, and Social Science Occupations',\n",
       " 'Management Occupations',\n",
       " 'Healthcare Practitioners and Technical Occupations']"
      ]
     },
     "execution_count": 49,
     "metadata": {},
     "output_type": "execute_result"
    }
   ],
   "source": [
    "industry_top_name = ['Computer and Mathematical Occupations','Architecture and Engineering Occupations','Business and Financial Operations Occupations','Life, Physical, and Social Science Occupations','Management Occupations','Healthcare Practitioners and Technical Occupations']\n",
    "industry_top_name # Reference: STANDARD OCCUPATIONAL CLASSIFICATION MANUAL 2018"
   ]
  },
  {
   "cell_type": "code",
   "execution_count": 50,
   "metadata": {},
   "outputs": [
    {
     "data": {
      "image/png": "[encoded data removed]",
      "text/plain": [
       "<Figure size 936x1152 with 6 Axes>"
      ]
     },
     "metadata": {
      "needs_background": "light"
     },
     "output_type": "display_data"
    }
   ],
   "source": [
    "plt.figure(figsize = (13,16))\n",
    "for i in range(len(industry_top)):\n",
    "    plt.subplot(3,2,i+1)\n",
    "    clean_new = clean_socright[clean_socright['INDUSTRY_CODE'] == industry_top[i]]['CASE_SUBMITTED_MONTH'].value_counts(normalize = True).reset_index()\n",
    "    clean_new.columns = [\"month\",\"frequency\"]\n",
    "    clean_new = clean_new.sort_values('month')\n",
    "    plt.bar(clean_new['month'].astype(str), clean_new['frequency'])\n",
    "    #clean_new.plot(kind='bar',x='month',y='frequency')\n",
    "    plt.ylim(0,0.42)\n",
    "    plt.xlabel(\"month\")\n",
    "    plt.ylabel(\"frequency\")\n",
    "    plt.title(industry_top_name[i])"
   ]
  },
  {
   "cell_type": "markdown",
   "metadata": {},
   "source": [
    "From the graphs of the top 6 categories of occupations, we can see that the patterns for the time of application submission are very similar. Most of the applications are submitted during the first half of the year, and the largest number of submissions happen in March. "
   ]
  },
  {
   "cell_type": "markdown",
   "metadata": {},
   "source": [
    "Therefore, from what we observed from the time patterns of H1-B applications submissions above, most companies apply H1-B in March. This probably indicates that newly-graduated international students should try to get a job before March, so that they won't miss the H1-B application process in most companies. Another interpretation for the peak in March is that, when international students graduate during May (semester system) or June (quarter system), they are granted a 24-month extension on their stay at the US with OPT Visa. When time approaches March of the year after their graduation, usually they have to find a job at US, or their OPT Visa will expire. This may help explain why the applications are concentrated in March as shown above."
   ]
  },
  {
   "cell_type": "code",
   "execution_count": null,
   "metadata": {},
   "outputs": [],
   "source": []
  }
 ],
 "metadata": {
  "kernelspec": {
   "display_name": "Python 3",
   "language": "python",
   "name": "python3"
  },
  "language_info": {
   "codemirror_mode": {
    "name": "ipython",
    "version": 3
   },
   "file_extension": ".py",
   "mimetype": "text/x-python",
   "name": "python",
   "nbconvert_exporter": "python",
   "pygments_lexer": "ipython3",
   "version": "3.7.4"
  }
 },
 "nbformat": 4,
 "nbformat_minor": 2
}
