{
 "cells": [
  {
   "cell_type": "code",
   "execution_count": 1,
   "metadata": {},
   "outputs": [],
   "source": [
    "import numpy as np\n",
    "import pandas as pd\n",
    "import matplotlib.pyplot as plt"
   ]
  },
  {
   "cell_type": "code",
   "execution_count": 2,
   "metadata": {},
   "outputs": [],
   "source": [
    "H1b = pd.read_excel('H-1B_Disclosure_Data_FY2019.xlsx')"
   ]
  },
  {
   "cell_type": "code",
   "execution_count": 3,
   "metadata": {
    "scrolled": true
   },
   "outputs": [
    {
     "data": {
      "text/html": [
       "<div>\n",
       "<style scoped>\n",
       "    .dataframe tbody tr th:only-of-type {\n",
       "        vertical-align: middle;\n",
       "    }\n",
       "\n",
       "    .dataframe tbody tr th {\n",
       "        vertical-align: top;\n",
       "    }\n",
       "\n",
       "    .dataframe thead th {\n",
       "        text-align: right;\n",
       "    }\n",
       "</style>\n",
       "<table border=\"1\" class=\"dataframe\">\n",
       "  <thead>\n",
       "    <tr style=\"text-align: right;\">\n",
       "      <th></th>\n",
       "      <th>CASE_NUMBER</th>\n",
       "      <th>CASE_STATUS</th>\n",
       "      <th>CASE_SUBMITTED</th>\n",
       "      <th>DECISION_DATE</th>\n",
       "      <th>ORIGINAL_CERT_DATE</th>\n",
       "      <th>VISA_CLASS</th>\n",
       "      <th>EMPLOYMENT_START_DATE</th>\n",
       "      <th>EMPLOYMENT_END_DATE</th>\n",
       "      <th>EMPLOYER_NAME</th>\n",
       "      <th>EMPLOYER_BUSINESS_DBA</th>\n",
       "      <th>...</th>\n",
       "      <th>APPX_A_FIELD_OF_STUDY_3</th>\n",
       "      <th>APPX_A_DATE_OF_DEGREE_3</th>\n",
       "      <th>APPX_A_NO_OF_EXEMPT_WORKER_4</th>\n",
       "      <th>APPX_A_NAME_OF_INSTITUTION_4</th>\n",
       "      <th>APPX_A_FIELD_OF_STUDY_4</th>\n",
       "      <th>APPX_A_DATE_OF_DEGREE_4</th>\n",
       "      <th>APPX_A_NO_OF_EXEMPT_WORKER_5</th>\n",
       "      <th>APPX_A_NAME_OF_INSTITUTION_5</th>\n",
       "      <th>APPX_A_FIELD_OF_STUDY_5</th>\n",
       "      <th>APPX_A_DATE_OF_DEGREE_5</th>\n",
       "    </tr>\n",
       "  </thead>\n",
       "  <tbody>\n",
       "    <tr>\n",
       "      <th>0</th>\n",
       "      <td>I-200-18269-520762</td>\n",
       "      <td>DENIED</td>\n",
       "      <td>2018-09-26</td>\n",
       "      <td>2018-10-01</td>\n",
       "      <td>NaT</td>\n",
       "      <td>H-1B</td>\n",
       "      <td>2018-09-26</td>\n",
       "      <td>2021-09-26</td>\n",
       "      <td>NES GLOBAL, LLC</td>\n",
       "      <td>CANDACE ROMERO</td>\n",
       "      <td>...</td>\n",
       "      <td>NaN</td>\n",
       "      <td>NaN</td>\n",
       "      <td>NaN</td>\n",
       "      <td>NaN</td>\n",
       "      <td>NaN</td>\n",
       "      <td>NaN</td>\n",
       "      <td>NaN</td>\n",
       "      <td>NaN</td>\n",
       "      <td>NaN</td>\n",
       "      <td>NaN</td>\n",
       "    </tr>\n",
       "    <tr>\n",
       "      <th>1</th>\n",
       "      <td>I-200-18323-885516</td>\n",
       "      <td>DENIED</td>\n",
       "      <td>2018-11-19</td>\n",
       "      <td>2018-11-26</td>\n",
       "      <td>NaT</td>\n",
       "      <td>H-1B</td>\n",
       "      <td>2018-11-27</td>\n",
       "      <td>2021-11-26</td>\n",
       "      <td>UNIVERSITY OF TEXAS AT DALLAS</td>\n",
       "      <td>NaN</td>\n",
       "      <td>...</td>\n",
       "      <td>NaN</td>\n",
       "      <td>NaN</td>\n",
       "      <td>NaN</td>\n",
       "      <td>NaN</td>\n",
       "      <td>NaN</td>\n",
       "      <td>NaN</td>\n",
       "      <td>NaN</td>\n",
       "      <td>NaN</td>\n",
       "      <td>NaN</td>\n",
       "      <td>NaN</td>\n",
       "    </tr>\n",
       "    <tr>\n",
       "      <th>2</th>\n",
       "      <td>I-200-18323-882044</td>\n",
       "      <td>DENIED</td>\n",
       "      <td>2018-11-19</td>\n",
       "      <td>2018-11-26</td>\n",
       "      <td>NaT</td>\n",
       "      <td>H-1B</td>\n",
       "      <td>2018-11-28</td>\n",
       "      <td>2021-11-27</td>\n",
       "      <td>UNIVERSITY OF TEXAS AT DALLAS</td>\n",
       "      <td>NaN</td>\n",
       "      <td>...</td>\n",
       "      <td>NaN</td>\n",
       "      <td>NaN</td>\n",
       "      <td>NaN</td>\n",
       "      <td>NaN</td>\n",
       "      <td>NaN</td>\n",
       "      <td>NaN</td>\n",
       "      <td>NaN</td>\n",
       "      <td>NaN</td>\n",
       "      <td>NaN</td>\n",
       "      <td>NaN</td>\n",
       "    </tr>\n",
       "    <tr>\n",
       "      <th>3</th>\n",
       "      <td>I-200-18356-858057</td>\n",
       "      <td>DENIED</td>\n",
       "      <td>2018-12-22</td>\n",
       "      <td>2018-12-27</td>\n",
       "      <td>NaT</td>\n",
       "      <td>H-1B</td>\n",
       "      <td>2019-01-01</td>\n",
       "      <td>2022-01-01</td>\n",
       "      <td>BILLY R. WINGARD</td>\n",
       "      <td>NaN</td>\n",
       "      <td>...</td>\n",
       "      <td>NaN</td>\n",
       "      <td>NaN</td>\n",
       "      <td>NaN</td>\n",
       "      <td>NaN</td>\n",
       "      <td>NaN</td>\n",
       "      <td>NaN</td>\n",
       "      <td>NaN</td>\n",
       "      <td>NaN</td>\n",
       "      <td>NaN</td>\n",
       "      <td>NaN</td>\n",
       "    </tr>\n",
       "    <tr>\n",
       "      <th>4</th>\n",
       "      <td>I-200-19081-827349</td>\n",
       "      <td>CERTIFIED</td>\n",
       "      <td>2019-03-22</td>\n",
       "      <td>2019-03-28</td>\n",
       "      <td>NaT</td>\n",
       "      <td>H-1B</td>\n",
       "      <td>2019-04-01</td>\n",
       "      <td>2022-04-01</td>\n",
       "      <td>COATES,BRIGHT &amp; BAY LLC</td>\n",
       "      <td>NaN</td>\n",
       "      <td>...</td>\n",
       "      <td>NaN</td>\n",
       "      <td>NaN</td>\n",
       "      <td>NaN</td>\n",
       "      <td>NaN</td>\n",
       "      <td>NaN</td>\n",
       "      <td>NaN</td>\n",
       "      <td>NaN</td>\n",
       "      <td>NaN</td>\n",
       "      <td>NaN</td>\n",
       "      <td>NaN</td>\n",
       "    </tr>\n",
       "  </tbody>\n",
       "</table>\n",
       "<p>5 rows × 73 columns</p>\n",
       "</div>"
      ],
      "text/plain": [
       "          CASE_NUMBER CASE_STATUS CASE_SUBMITTED DECISION_DATE  \\\n",
       "0  I-200-18269-520762      DENIED     2018-09-26    2018-10-01   \n",
       "1  I-200-18323-885516      DENIED     2018-11-19    2018-11-26   \n",
       "2  I-200-18323-882044      DENIED     2018-11-19    2018-11-26   \n",
       "3  I-200-18356-858057      DENIED     2018-12-22    2018-12-27   \n",
       "4  I-200-19081-827349   CERTIFIED     2019-03-22    2019-03-28   \n",
       "\n",
       "  ORIGINAL_CERT_DATE VISA_CLASS EMPLOYMENT_START_DATE EMPLOYMENT_END_DATE  \\\n",
       "0                NaT       H-1B            2018-09-26          2021-09-26   \n",
       "1                NaT       H-1B            2018-11-27          2021-11-26   \n",
       "2                NaT       H-1B            2018-11-28          2021-11-27   \n",
       "3                NaT       H-1B            2019-01-01          2022-01-01   \n",
       "4                NaT       H-1B            2019-04-01          2022-04-01   \n",
       "\n",
       "                   EMPLOYER_NAME EMPLOYER_BUSINESS_DBA  ...  \\\n",
       "0                NES GLOBAL, LLC        CANDACE ROMERO  ...   \n",
       "1  UNIVERSITY OF TEXAS AT DALLAS                   NaN  ...   \n",
       "2  UNIVERSITY OF TEXAS AT DALLAS                   NaN  ...   \n",
       "3               BILLY R. WINGARD                   NaN  ...   \n",
       "4        COATES,BRIGHT & BAY LLC                   NaN  ...   \n",
       "\n",
       "  APPX_A_FIELD_OF_STUDY_3 APPX_A_DATE_OF_DEGREE_3  \\\n",
       "0                     NaN                     NaN   \n",
       "1                     NaN                     NaN   \n",
       "2                     NaN                     NaN   \n",
       "3                     NaN                     NaN   \n",
       "4                     NaN                     NaN   \n",
       "\n",
       "  APPX_A_NO_OF_EXEMPT_WORKER_4 APPX_A_NAME_OF_INSTITUTION_4  \\\n",
       "0                          NaN                          NaN   \n",
       "1                          NaN                          NaN   \n",
       "2                          NaN                          NaN   \n",
       "3                          NaN                          NaN   \n",
       "4                          NaN                          NaN   \n",
       "\n",
       "  APPX_A_FIELD_OF_STUDY_4 APPX_A_DATE_OF_DEGREE_4  \\\n",
       "0                     NaN                     NaN   \n",
       "1                     NaN                     NaN   \n",
       "2                     NaN                     NaN   \n",
       "3                     NaN                     NaN   \n",
       "4                     NaN                     NaN   \n",
       "\n",
       "  APPX_A_NO_OF_EXEMPT_WORKER_5 APPX_A_NAME_OF_INSTITUTION_5  \\\n",
       "0                          NaN                          NaN   \n",
       "1                          NaN                          NaN   \n",
       "2                          NaN                          NaN   \n",
       "3                          NaN                          NaN   \n",
       "4                          NaN                          NaN   \n",
       "\n",
       "  APPX_A_FIELD_OF_STUDY_5 APPX_A_DATE_OF_DEGREE_5  \n",
       "0                     NaN                     NaN  \n",
       "1                     NaN                     NaN  \n",
       "2                     NaN                     NaN  \n",
       "3                     NaN                     NaN  \n",
       "4                     NaN                     NaN  \n",
       "\n",
       "[5 rows x 73 columns]"
      ]
     },
     "execution_count": 3,
     "metadata": {},
     "output_type": "execute_result"
    }
   ],
   "source": [
    "H1b.head()"
   ]
  },
  {
   "cell_type": "code",
   "execution_count": 4,
   "metadata": {
    "scrolled": true
   },
   "outputs": [
    {
     "data": {
      "text/html": [
       "<div>\n",
       "<style scoped>\n",
       "    .dataframe tbody tr th:only-of-type {\n",
       "        vertical-align: middle;\n",
       "    }\n",
       "\n",
       "    .dataframe tbody tr th {\n",
       "        vertical-align: top;\n",
       "    }\n",
       "\n",
       "    .dataframe thead th {\n",
       "        text-align: right;\n",
       "    }\n",
       "</style>\n",
       "<table border=\"1\" class=\"dataframe\">\n",
       "  <thead>\n",
       "    <tr style=\"text-align: right;\">\n",
       "      <th></th>\n",
       "      <th>CASE_NUMBER</th>\n",
       "      <th>CASE_STATUS</th>\n",
       "      <th>CASE_SUBMITTED</th>\n",
       "      <th>DECISION_DATE</th>\n",
       "      <th>VISA_CLASS</th>\n",
       "      <th>EMPLOYMENT_START_DATE</th>\n",
       "      <th>EMPLOYMENT_END_DATE</th>\n",
       "      <th>EMPLOYER_NAME</th>\n",
       "      <th>EMPLOYER_ADDRESS</th>\n",
       "      <th>EMPLOYER_CITY</th>\n",
       "      <th>...</th>\n",
       "      <th>WAGE_RATE_OF_PAY_FROM</th>\n",
       "      <th>WAGE_RATE_OF_PAY_TO</th>\n",
       "      <th>WAGE_UNIT_OF_PAY</th>\n",
       "      <th>H1B_DEPENDENT</th>\n",
       "      <th>WORKSITE_CITY</th>\n",
       "      <th>WORKSITE_COUNTY</th>\n",
       "      <th>WORKSITE_STATE</th>\n",
       "      <th>WORKSITE_POSTAL_CODE</th>\n",
       "      <th>WILLFUL_VIOLATOR</th>\n",
       "      <th>SUPPORT_H1B</th>\n",
       "    </tr>\n",
       "  </thead>\n",
       "  <tbody>\n",
       "    <tr>\n",
       "      <th>0</th>\n",
       "      <td>I-200-18269-520762</td>\n",
       "      <td>DENIED</td>\n",
       "      <td>2018-09-26</td>\n",
       "      <td>2018-10-01</td>\n",
       "      <td>H-1B</td>\n",
       "      <td>2018-09-26</td>\n",
       "      <td>2021-09-26</td>\n",
       "      <td>NES GLOBAL, LLC</td>\n",
       "      <td>800 GESSNER ROAD</td>\n",
       "      <td>HOUSTON</td>\n",
       "      <td>...</td>\n",
       "      <td>36.00</td>\n",
       "      <td>0.00</td>\n",
       "      <td>Hour</td>\n",
       "      <td>N</td>\n",
       "      <td>HOUSTON</td>\n",
       "      <td>TX</td>\n",
       "      <td>FL</td>\n",
       "      <td>77024</td>\n",
       "      <td>N</td>\n",
       "      <td>NaN</td>\n",
       "    </tr>\n",
       "    <tr>\n",
       "      <th>1</th>\n",
       "      <td>I-200-18323-885516</td>\n",
       "      <td>DENIED</td>\n",
       "      <td>2018-11-19</td>\n",
       "      <td>2018-11-26</td>\n",
       "      <td>H-1B</td>\n",
       "      <td>2018-11-27</td>\n",
       "      <td>2021-11-26</td>\n",
       "      <td>UNIVERSITY OF TEXAS AT DALLAS</td>\n",
       "      <td>800 W CAMPBELL RD</td>\n",
       "      <td>RICHARDSON</td>\n",
       "      <td>...</td>\n",
       "      <td>50000.00</td>\n",
       "      <td>0.00</td>\n",
       "      <td>Year</td>\n",
       "      <td>N</td>\n",
       "      <td>Richardson</td>\n",
       "      <td>TX</td>\n",
       "      <td>TX</td>\n",
       "      <td>75080</td>\n",
       "      <td>N</td>\n",
       "      <td>NaN</td>\n",
       "    </tr>\n",
       "    <tr>\n",
       "      <th>2</th>\n",
       "      <td>I-200-18323-882044</td>\n",
       "      <td>DENIED</td>\n",
       "      <td>2018-11-19</td>\n",
       "      <td>2018-11-26</td>\n",
       "      <td>H-1B</td>\n",
       "      <td>2018-11-28</td>\n",
       "      <td>2021-11-27</td>\n",
       "      <td>UNIVERSITY OF TEXAS AT DALLAS</td>\n",
       "      <td>800 W CAMPBELL RD</td>\n",
       "      <td>RICHARDSON</td>\n",
       "      <td>...</td>\n",
       "      <td>207777.00</td>\n",
       "      <td>0.00</td>\n",
       "      <td>Year</td>\n",
       "      <td>N</td>\n",
       "      <td>Richardson</td>\n",
       "      <td>Dallas</td>\n",
       "      <td>TX</td>\n",
       "      <td>75080</td>\n",
       "      <td>N</td>\n",
       "      <td>NaN</td>\n",
       "    </tr>\n",
       "    <tr>\n",
       "      <th>3</th>\n",
       "      <td>I-200-18356-858057</td>\n",
       "      <td>DENIED</td>\n",
       "      <td>2018-12-22</td>\n",
       "      <td>2018-12-27</td>\n",
       "      <td>H-1B</td>\n",
       "      <td>2019-01-01</td>\n",
       "      <td>2022-01-01</td>\n",
       "      <td>BILLY R. WINGARD</td>\n",
       "      <td>4705 EDGEWOOD DRIVE</td>\n",
       "      <td>NEW BERN</td>\n",
       "      <td>...</td>\n",
       "      <td>7.95</td>\n",
       "      <td>7.95</td>\n",
       "      <td>Hour</td>\n",
       "      <td>N</td>\n",
       "      <td>New Bern</td>\n",
       "      <td>Craven</td>\n",
       "      <td>NC</td>\n",
       "      <td>28562</td>\n",
       "      <td>N</td>\n",
       "      <td>NaN</td>\n",
       "    </tr>\n",
       "    <tr>\n",
       "      <th>4</th>\n",
       "      <td>I-200-19081-827349</td>\n",
       "      <td>CERTIFIED</td>\n",
       "      <td>2019-03-22</td>\n",
       "      <td>2019-03-28</td>\n",
       "      <td>H-1B</td>\n",
       "      <td>2019-04-01</td>\n",
       "      <td>2022-04-01</td>\n",
       "      <td>COATES,BRIGHT &amp; BAY LLC</td>\n",
       "      <td>2820 PAN AMERICAN BLVD</td>\n",
       "      <td>NORTH PORT</td>\n",
       "      <td>...</td>\n",
       "      <td>8.46</td>\n",
       "      <td>10.00</td>\n",
       "      <td>Hour</td>\n",
       "      <td>Y</td>\n",
       "      <td>NORTH PORT</td>\n",
       "      <td>florida</td>\n",
       "      <td>FL</td>\n",
       "      <td>34287</td>\n",
       "      <td>N</td>\n",
       "      <td>N</td>\n",
       "    </tr>\n",
       "  </tbody>\n",
       "</table>\n",
       "<p>5 rows × 46 columns</p>\n",
       "</div>"
      ],
      "text/plain": [
       "          CASE_NUMBER CASE_STATUS CASE_SUBMITTED DECISION_DATE VISA_CLASS  \\\n",
       "0  I-200-18269-520762      DENIED     2018-09-26    2018-10-01       H-1B   \n",
       "1  I-200-18323-885516      DENIED     2018-11-19    2018-11-26       H-1B   \n",
       "2  I-200-18323-882044      DENIED     2018-11-19    2018-11-26       H-1B   \n",
       "3  I-200-18356-858057      DENIED     2018-12-22    2018-12-27       H-1B   \n",
       "4  I-200-19081-827349   CERTIFIED     2019-03-22    2019-03-28       H-1B   \n",
       "\n",
       "  EMPLOYMENT_START_DATE EMPLOYMENT_END_DATE                  EMPLOYER_NAME  \\\n",
       "0            2018-09-26          2021-09-26                NES GLOBAL, LLC   \n",
       "1            2018-11-27          2021-11-26  UNIVERSITY OF TEXAS AT DALLAS   \n",
       "2            2018-11-28          2021-11-27  UNIVERSITY OF TEXAS AT DALLAS   \n",
       "3            2019-01-01          2022-01-01               BILLY R. WINGARD   \n",
       "4            2019-04-01          2022-04-01        COATES,BRIGHT & BAY LLC   \n",
       "\n",
       "         EMPLOYER_ADDRESS EMPLOYER_CITY  ... WAGE_RATE_OF_PAY_FROM  \\\n",
       "0        800 GESSNER ROAD       HOUSTON  ...                 36.00   \n",
       "1       800 W CAMPBELL RD    RICHARDSON  ...              50000.00   \n",
       "2       800 W CAMPBELL RD    RICHARDSON  ...             207777.00   \n",
       "3     4705 EDGEWOOD DRIVE      NEW BERN  ...                  7.95   \n",
       "4  2820 PAN AMERICAN BLVD    NORTH PORT  ...                  8.46   \n",
       "\n",
       "  WAGE_RATE_OF_PAY_TO WAGE_UNIT_OF_PAY H1B_DEPENDENT WORKSITE_CITY  \\\n",
       "0                0.00             Hour             N       HOUSTON   \n",
       "1                0.00             Year             N    Richardson   \n",
       "2                0.00             Year             N    Richardson   \n",
       "3                7.95             Hour             N      New Bern   \n",
       "4               10.00             Hour             Y    NORTH PORT   \n",
       "\n",
       "  WORKSITE_COUNTY WORKSITE_STATE WORKSITE_POSTAL_CODE WILLFUL_VIOLATOR  \\\n",
       "0              TX             FL                77024                N   \n",
       "1              TX             TX                75080                N   \n",
       "2          Dallas             TX                75080                N   \n",
       "3          Craven             NC                28562                N   \n",
       "4         florida             FL                34287                N   \n",
       "\n",
       "  SUPPORT_H1B  \n",
       "0         NaN  \n",
       "1         NaN  \n",
       "2         NaN  \n",
       "3         NaN  \n",
       "4           N  \n",
       "\n",
       "[5 rows x 46 columns]"
      ]
     },
     "execution_count": 4,
     "metadata": {},
     "output_type": "execute_result"
    }
   ],
   "source": [
    "clean = H1b.dropna(axis = 1, thresh= H1b.shape[0] / 3)\n",
    "clean = clean.query('VISA_CLASS == \"H-1B\"')\n",
    "clean = clean.query('CASE_STATUS != \"WITHDRAWN\"')\n",
    "clean.head()"
   ]
  },
  {
   "cell_type": "markdown",
   "metadata": {},
   "source": [
    "## 2. Start & End Date"
   ]
  },
  {
   "cell_type": "code",
   "execution_count": 5,
   "metadata": {},
   "outputs": [],
   "source": [
    "clean['Duration'] = clean.EMPLOYMENT_END_DATE - clean.EMPLOYMENT_START_DATE"
   ]
  },
  {
   "cell_type": "code",
   "execution_count": 6,
   "metadata": {},
   "outputs": [
    {
     "name": "stdout",
     "output_type": "stream",
     "text": [
      "count                       629857\n",
      "mean     1067 days 03:38:15.040937\n",
      "std       126 days 08:23:29.809572\n",
      "min              -1 days +00:00:00\n",
      "25%             1095 days 00:00:00\n",
      "50%             1095 days 00:00:00\n",
      "75%             1096 days 00:00:00\n",
      "max             1460 days 00:00:00\n",
      "Name: Duration, dtype: object\n"
     ]
    },
    {
     "data": {
      "text/html": [
       "<div>\n",
       "<style scoped>\n",
       "    .dataframe tbody tr th:only-of-type {\n",
       "        vertical-align: middle;\n",
       "    }\n",
       "\n",
       "    .dataframe tbody tr th {\n",
       "        vertical-align: top;\n",
       "    }\n",
       "\n",
       "    .dataframe thead th {\n",
       "        text-align: right;\n",
       "    }\n",
       "</style>\n",
       "<table border=\"1\" class=\"dataframe\">\n",
       "  <thead>\n",
       "    <tr style=\"text-align: right;\">\n",
       "      <th></th>\n",
       "      <th>SOC_NAME</th>\n",
       "      <th>Duration</th>\n",
       "    </tr>\n",
       "  </thead>\n",
       "  <tbody>\n",
       "    <tr>\n",
       "      <th>305263</th>\n",
       "      <td>SOFTWARE DEVELOPERS, APPLICATIONS</td>\n",
       "      <td>1460 days</td>\n",
       "    </tr>\n",
       "    <tr>\n",
       "      <th>631974</th>\n",
       "      <td>INDUSTRIAL ENGINEERS</td>\n",
       "      <td>1460 days</td>\n",
       "    </tr>\n",
       "    <tr>\n",
       "      <th>299404</th>\n",
       "      <td>SOFTWARE DEVELOPERS, APPLICATIONS</td>\n",
       "      <td>1460 days</td>\n",
       "    </tr>\n",
       "    <tr>\n",
       "      <th>324448</th>\n",
       "      <td>PHYSICIANS AND SURGEONS, ALL OTHER</td>\n",
       "      <td>1460 days</td>\n",
       "    </tr>\n",
       "    <tr>\n",
       "      <th>308198</th>\n",
       "      <td>SOFTWARE DEVELOPERS, APPLICATIONS</td>\n",
       "      <td>1460 days</td>\n",
       "    </tr>\n",
       "    <tr>\n",
       "      <th>228249</th>\n",
       "      <td>SOFTWARE DEVELOPERS, APPLICATIONS</td>\n",
       "      <td>1357 days</td>\n",
       "    </tr>\n",
       "    <tr>\n",
       "      <th>398914</th>\n",
       "      <td>SOFTWARE DEVELOPERS, APPLICATIONS</td>\n",
       "      <td>1165 days</td>\n",
       "    </tr>\n",
       "    <tr>\n",
       "      <th>484631</th>\n",
       "      <td>MARINE ENGINEERS AND NAVAL ARCHITECTS</td>\n",
       "      <td>1126 days</td>\n",
       "    </tr>\n",
       "    <tr>\n",
       "      <th>29464</th>\n",
       "      <td>ARCHITECTS, EXCEPT LANDSCAPE AND NAVAL</td>\n",
       "      <td>1112 days</td>\n",
       "    </tr>\n",
       "    <tr>\n",
       "      <th>23380</th>\n",
       "      <td>MICROBIOLOGISTS</td>\n",
       "      <td>1105 days</td>\n",
       "    </tr>\n",
       "  </tbody>\n",
       "</table>\n",
       "</div>"
      ],
      "text/plain": [
       "                                      SOC_NAME  Duration\n",
       "305263       SOFTWARE DEVELOPERS, APPLICATIONS 1460 days\n",
       "631974                    INDUSTRIAL ENGINEERS 1460 days\n",
       "299404       SOFTWARE DEVELOPERS, APPLICATIONS 1460 days\n",
       "324448      PHYSICIANS AND SURGEONS, ALL OTHER 1460 days\n",
       "308198       SOFTWARE DEVELOPERS, APPLICATIONS 1460 days\n",
       "228249       SOFTWARE DEVELOPERS, APPLICATIONS 1357 days\n",
       "398914       SOFTWARE DEVELOPERS, APPLICATIONS 1165 days\n",
       "484631   MARINE ENGINEERS AND NAVAL ARCHITECTS 1126 days\n",
       "29464   ARCHITECTS, EXCEPT LANDSCAPE AND NAVAL 1112 days\n",
       "23380                          MICROBIOLOGISTS 1105 days"
      ]
     },
     "execution_count": 6,
     "metadata": {},
     "output_type": "execute_result"
    }
   ],
   "source": [
    "print(clean.Duration.describe())\n",
    "clean[['SOC_NAME', 'Duration']].sort_values(by = 'Duration',ascending = False).head(10)"
   ]
  },
  {
   "cell_type": "code",
   "execution_count": 7,
   "metadata": {},
   "outputs": [
    {
     "data": {
      "text/plain": [
       "CASE_STATUS\n",
       "CERTIFIED              AxesSubplot(0.125,0.125;0.775x0.755)\n",
       "CERTIFIED-WITHDRAWN    AxesSubplot(0.125,0.125;0.775x0.755)\n",
       "DENIED                 AxesSubplot(0.125,0.125;0.775x0.755)\n",
       "Name: Duration, dtype: object"
      ]
     },
     "execution_count": 7,
     "metadata": {},
     "output_type": "execute_result"
    },
    {
     "data": {
      "image/png": "[encoded data removed]",
      "text/plain": [
       "<Figure size 432x288 with 1 Axes>"
      ]
     },
     "metadata": {
      "needs_background": "light"
     },
     "output_type": "display_data"
    }
   ],
   "source": [
    "clean.groupby('CASE_STATUS')['Duration'].plot()"
   ]
  },
  {
   "cell_type": "markdown",
   "metadata": {},
   "source": [
    "## 3. Employer Location"
   ]
  },
  {
   "cell_type": "code",
   "execution_count": 8,
   "metadata": {},
   "outputs": [
    {
     "data": {
      "text/plain": [
       "EMPLOYER_CITY\n",
       "COLLEGE STATION    28884\n",
       "NEW YORK           28480\n",
       "CHICAGO            23068\n",
       "RICHARDSON         22481\n",
       "SAN FRANCISCO      14120\n",
       "MOUNTAIN VIEW      13176\n",
       "ROCKVILLE          12966\n",
       "SEATTLE            12553\n",
       "EDISON             12394\n",
       "PHILADELPHIA       12363\n",
       "Name: CASE_STATUS, dtype: int64"
      ]
     },
     "execution_count": 8,
     "metadata": {},
     "output_type": "execute_result"
    }
   ],
   "source": [
    "clean.groupby('EMPLOYER_CITY')['CASE_STATUS'].count().sort_values(ascending = False).head(10)"
   ]
  },
  {
   "cell_type": "markdown",
   "metadata": {},
   "source": [
    "## 5. Employment Categories "
   ]
  },
  {
   "cell_type": "code",
   "execution_count": 9,
   "metadata": {},
   "outputs": [
    {
     "data": {
      "text/plain": [
       "SOC_NAME\n",
       "SOFTWARE DEVELOPERS, APPLICATIONS        208489\n",
       "COMPUTER OCCUPATIONS, ALL OTHER           54486\n",
       "COMPUTER SYSTEMS ANALYST                  40568\n",
       "COMPUTER SYSTEMS ANALYSTS                 30615\n",
       "SOFTWARE DEVELOPERS, SYSTEMS SOFTWARE     30580\n",
       "COMPUTER PROGRAMMERS                      16439\n",
       "OPERATIONS RESEARCH ANALYSTS              11388\n",
       "MECHANICAL ENGINEERS                      11161\n",
       "ACCOUNTANTS AND AUDITORS                  10282\n",
       "MANAGEMENT ANALYSTS                        9521\n",
       "Name: CASE_STATUS, dtype: int64"
      ]
     },
     "execution_count": 9,
     "metadata": {},
     "output_type": "execute_result"
    }
   ],
   "source": [
    "clean.groupby('SOC_NAME')['CASE_STATUS'].count().sort_values(ascending = False).head(10)\n"
   ]
  },
  {
   "cell_type": "code",
   "execution_count": 26,
   "metadata": {},
   "outputs": [
    {
     "data": {
      "text/html": [
       "<div>\n",
       "<style scoped>\n",
       "    .dataframe tbody tr th:only-of-type {\n",
       "        vertical-align: middle;\n",
       "    }\n",
       "\n",
       "    .dataframe tbody tr th {\n",
       "        vertical-align: top;\n",
       "    }\n",
       "\n",
       "    .dataframe thead th {\n",
       "        text-align: right;\n",
       "    }\n",
       "</style>\n",
       "<table border=\"1\" class=\"dataframe\">\n",
       "  <thead>\n",
       "    <tr style=\"text-align: right;\">\n",
       "      <th>CASE_STATUS</th>\n",
       "      <th>CERTIFIED</th>\n",
       "      <th>CERTIFIED-WITHDRAWN</th>\n",
       "      <th>DENIED</th>\n",
       "    </tr>\n",
       "    <tr>\n",
       "      <th>SOC_CODE</th>\n",
       "      <th></th>\n",
       "      <th></th>\n",
       "      <th></th>\n",
       "    </tr>\n",
       "  </thead>\n",
       "  <tbody>\n",
       "    <tr>\n",
       "      <th>15-1132</th>\n",
       "      <td>194786.0</td>\n",
       "      <td>12697.0</td>\n",
       "      <td>1253.0</td>\n",
       "    </tr>\n",
       "    <tr>\n",
       "      <th>15-1121</th>\n",
       "      <td>68535.0</td>\n",
       "      <td>2430.0</td>\n",
       "      <td>232.0</td>\n",
       "    </tr>\n",
       "    <tr>\n",
       "      <th>15-1199</th>\n",
       "      <td>58030.0</td>\n",
       "      <td>3059.0</td>\n",
       "      <td>327.0</td>\n",
       "    </tr>\n",
       "    <tr>\n",
       "      <th>15-1133</th>\n",
       "      <td>28368.0</td>\n",
       "      <td>2023.0</td>\n",
       "      <td>215.0</td>\n",
       "    </tr>\n",
       "    <tr>\n",
       "      <th>15-1131</th>\n",
       "      <td>15037.0</td>\n",
       "      <td>1494.0</td>\n",
       "      <td>91.0</td>\n",
       "    </tr>\n",
       "    <tr>\n",
       "      <th>15-2031</th>\n",
       "      <td>10716.0</td>\n",
       "      <td>631.0</td>\n",
       "      <td>65.0</td>\n",
       "    </tr>\n",
       "    <tr>\n",
       "      <th>17-2141</th>\n",
       "      <td>10333.0</td>\n",
       "      <td>749.0</td>\n",
       "      <td>92.0</td>\n",
       "    </tr>\n",
       "    <tr>\n",
       "      <th>13-2011</th>\n",
       "      <td>9823.0</td>\n",
       "      <td>342.0</td>\n",
       "      <td>151.0</td>\n",
       "    </tr>\n",
       "    <tr>\n",
       "      <th>13-1111</th>\n",
       "      <td>9249.0</td>\n",
       "      <td>487.0</td>\n",
       "      <td>110.0</td>\n",
       "    </tr>\n",
       "    <tr>\n",
       "      <th>15-2041</th>\n",
       "      <td>8448.0</td>\n",
       "      <td>752.0</td>\n",
       "      <td>44.0</td>\n",
       "    </tr>\n",
       "    <tr>\n",
       "      <th>11-3021</th>\n",
       "      <td>8278.0</td>\n",
       "      <td>472.0</td>\n",
       "      <td>77.0</td>\n",
       "    </tr>\n",
       "    <tr>\n",
       "      <th>15-1141</th>\n",
       "      <td>8145.0</td>\n",
       "      <td>612.0</td>\n",
       "      <td>61.0</td>\n",
       "    </tr>\n",
       "    <tr>\n",
       "      <th>13-2051</th>\n",
       "      <td>8057.0</td>\n",
       "      <td>728.0</td>\n",
       "      <td>102.0</td>\n",
       "    </tr>\n",
       "    <tr>\n",
       "      <th>17-2071</th>\n",
       "      <td>7351.0</td>\n",
       "      <td>538.0</td>\n",
       "      <td>88.0</td>\n",
       "    </tr>\n",
       "    <tr>\n",
       "      <th>15-1142</th>\n",
       "      <td>6526.0</td>\n",
       "      <td>552.0</td>\n",
       "      <td>46.0</td>\n",
       "    </tr>\n",
       "    <tr>\n",
       "      <th>17-2072</th>\n",
       "      <td>5790.0</td>\n",
       "      <td>438.0</td>\n",
       "      <td>44.0</td>\n",
       "    </tr>\n",
       "    <tr>\n",
       "      <th>13-1161</th>\n",
       "      <td>5160.0</td>\n",
       "      <td>308.0</td>\n",
       "      <td>114.0</td>\n",
       "    </tr>\n",
       "    <tr>\n",
       "      <th>29-1069</th>\n",
       "      <td>4859.0</td>\n",
       "      <td>289.0</td>\n",
       "      <td>102.0</td>\n",
       "    </tr>\n",
       "    <tr>\n",
       "      <th>17-2112</th>\n",
       "      <td>4796.0</td>\n",
       "      <td>308.0</td>\n",
       "      <td>43.0</td>\n",
       "    </tr>\n",
       "    <tr>\n",
       "      <th>19-1042</th>\n",
       "      <td>4478.0</td>\n",
       "      <td>861.0</td>\n",
       "      <td>45.0</td>\n",
       "    </tr>\n",
       "    <tr>\n",
       "      <th>15-1122</th>\n",
       "      <td>4361.0</td>\n",
       "      <td>208.0</td>\n",
       "      <td>27.0</td>\n",
       "    </tr>\n",
       "    <tr>\n",
       "      <th>17-2051</th>\n",
       "      <td>4275.0</td>\n",
       "      <td>347.0</td>\n",
       "      <td>90.0</td>\n",
       "    </tr>\n",
       "    <tr>\n",
       "      <th>15-1111</th>\n",
       "      <td>3926.0</td>\n",
       "      <td>257.0</td>\n",
       "      <td>28.0</td>\n",
       "    </tr>\n",
       "    <tr>\n",
       "      <th>17-2199</th>\n",
       "      <td>3596.0</td>\n",
       "      <td>396.0</td>\n",
       "      <td>44.0</td>\n",
       "    </tr>\n",
       "    <tr>\n",
       "      <th>13-2099</th>\n",
       "      <td>3484.0</td>\n",
       "      <td>221.0</td>\n",
       "      <td>40.0</td>\n",
       "    </tr>\n",
       "    <tr>\n",
       "      <th>19-1029</th>\n",
       "      <td>3162.0</td>\n",
       "      <td>659.0</td>\n",
       "      <td>17.0</td>\n",
       "    </tr>\n",
       "    <tr>\n",
       "      <th>15-1143</th>\n",
       "      <td>2927.0</td>\n",
       "      <td>140.0</td>\n",
       "      <td>12.0</td>\n",
       "    </tr>\n",
       "    <tr>\n",
       "      <th>19-1021</th>\n",
       "      <td>2562.0</td>\n",
       "      <td>618.0</td>\n",
       "      <td>20.0</td>\n",
       "    </tr>\n",
       "    <tr>\n",
       "      <th>41-9031</th>\n",
       "      <td>2516.0</td>\n",
       "      <td>162.0</td>\n",
       "      <td>22.0</td>\n",
       "    </tr>\n",
       "    <tr>\n",
       "      <th>19-2031</th>\n",
       "      <td>2121.0</td>\n",
       "      <td>200.0</td>\n",
       "      <td>23.0</td>\n",
       "    </tr>\n",
       "    <tr>\n",
       "      <th>11-2021</th>\n",
       "      <td>2026.0</td>\n",
       "      <td>190.0</td>\n",
       "      <td>37.0</td>\n",
       "    </tr>\n",
       "    <tr>\n",
       "      <th>15-1134</th>\n",
       "      <td>2024.0</td>\n",
       "      <td>32.0</td>\n",
       "      <td>16.0</td>\n",
       "    </tr>\n",
       "    <tr>\n",
       "      <th>25-1071</th>\n",
       "      <td>1817.0</td>\n",
       "      <td>356.0</td>\n",
       "      <td>18.0</td>\n",
       "    </tr>\n",
       "    <tr>\n",
       "      <th>29-1123</th>\n",
       "      <td>1781.0</td>\n",
       "      <td>123.0</td>\n",
       "      <td>47.0</td>\n",
       "    </tr>\n",
       "    <tr>\n",
       "      <th>27-1024</th>\n",
       "      <td>1770.0</td>\n",
       "      <td>116.0</td>\n",
       "      <td>24.0</td>\n",
       "    </tr>\n",
       "    <tr>\n",
       "      <th>13-1081</th>\n",
       "      <td>1768.0</td>\n",
       "      <td>104.0</td>\n",
       "      <td>24.0</td>\n",
       "    </tr>\n",
       "    <tr>\n",
       "      <th>11-9041</th>\n",
       "      <td>1527.0</td>\n",
       "      <td>139.0</td>\n",
       "      <td>15.0</td>\n",
       "    </tr>\n",
       "    <tr>\n",
       "      <th>23-1011</th>\n",
       "      <td>1469.0</td>\n",
       "      <td>119.0</td>\n",
       "      <td>54.0</td>\n",
       "    </tr>\n",
       "    <tr>\n",
       "      <th>11-3031</th>\n",
       "      <td>1354.0</td>\n",
       "      <td>101.0</td>\n",
       "      <td>16.0</td>\n",
       "    </tr>\n",
       "    <tr>\n",
       "      <th>17-2061</th>\n",
       "      <td>1340.0</td>\n",
       "      <td>59.0</td>\n",
       "      <td>7.0</td>\n",
       "    </tr>\n",
       "    <tr>\n",
       "      <th>17-1011</th>\n",
       "      <td>1236.0</td>\n",
       "      <td>114.0</td>\n",
       "      <td>23.0</td>\n",
       "    </tr>\n",
       "    <tr>\n",
       "      <th>17-2031</th>\n",
       "      <td>1216.0</td>\n",
       "      <td>140.0</td>\n",
       "      <td>16.0</td>\n",
       "    </tr>\n",
       "    <tr>\n",
       "      <th>19-3011</th>\n",
       "      <td>1198.0</td>\n",
       "      <td>110.0</td>\n",
       "      <td>11.0</td>\n",
       "    </tr>\n",
       "    <tr>\n",
       "      <th>17-2131</th>\n",
       "      <td>1192.0</td>\n",
       "      <td>103.0</td>\n",
       "      <td>8.0</td>\n",
       "    </tr>\n",
       "    <tr>\n",
       "      <th>25-1011</th>\n",
       "      <td>1158.0</td>\n",
       "      <td>187.0</td>\n",
       "      <td>11.0</td>\n",
       "    </tr>\n",
       "    <tr>\n",
       "      <th>27-1021</th>\n",
       "      <td>1099.0</td>\n",
       "      <td>80.0</td>\n",
       "      <td>14.0</td>\n",
       "    </tr>\n",
       "    <tr>\n",
       "      <th>13-1041</th>\n",
       "      <td>1087.0</td>\n",
       "      <td>120.0</td>\n",
       "      <td>13.0</td>\n",
       "    </tr>\n",
       "    <tr>\n",
       "      <th>17-2041</th>\n",
       "      <td>1072.0</td>\n",
       "      <td>101.0</td>\n",
       "      <td>24.0</td>\n",
       "    </tr>\n",
       "    <tr>\n",
       "      <th>29-1063</th>\n",
       "      <td>1054.0</td>\n",
       "      <td>88.0</td>\n",
       "      <td>18.0</td>\n",
       "    </tr>\n",
       "    <tr>\n",
       "      <th>29-1021</th>\n",
       "      <td>1043.0</td>\n",
       "      <td>68.0</td>\n",
       "      <td>24.0</td>\n",
       "    </tr>\n",
       "  </tbody>\n",
       "</table>\n",
       "</div>"
      ],
      "text/plain": [
       "CASE_STATUS  CERTIFIED  CERTIFIED-WITHDRAWN  DENIED\n",
       "SOC_CODE                                           \n",
       "15-1132       194786.0              12697.0  1253.0\n",
       "15-1121        68535.0               2430.0   232.0\n",
       "15-1199        58030.0               3059.0   327.0\n",
       "15-1133        28368.0               2023.0   215.0\n",
       "15-1131        15037.0               1494.0    91.0\n",
       "15-2031        10716.0                631.0    65.0\n",
       "17-2141        10333.0                749.0    92.0\n",
       "13-2011         9823.0                342.0   151.0\n",
       "13-1111         9249.0                487.0   110.0\n",
       "15-2041         8448.0                752.0    44.0\n",
       "11-3021         8278.0                472.0    77.0\n",
       "15-1141         8145.0                612.0    61.0\n",
       "13-2051         8057.0                728.0   102.0\n",
       "17-2071         7351.0                538.0    88.0\n",
       "15-1142         6526.0                552.0    46.0\n",
       "17-2072         5790.0                438.0    44.0\n",
       "13-1161         5160.0                308.0   114.0\n",
       "29-1069         4859.0                289.0   102.0\n",
       "17-2112         4796.0                308.0    43.0\n",
       "19-1042         4478.0                861.0    45.0\n",
       "15-1122         4361.0                208.0    27.0\n",
       "17-2051         4275.0                347.0    90.0\n",
       "15-1111         3926.0                257.0    28.0\n",
       "17-2199         3596.0                396.0    44.0\n",
       "13-2099         3484.0                221.0    40.0\n",
       "19-1029         3162.0                659.0    17.0\n",
       "15-1143         2927.0                140.0    12.0\n",
       "19-1021         2562.0                618.0    20.0\n",
       "41-9031         2516.0                162.0    22.0\n",
       "19-2031         2121.0                200.0    23.0\n",
       "11-2021         2026.0                190.0    37.0\n",
       "15-1134         2024.0                 32.0    16.0\n",
       "25-1071         1817.0                356.0    18.0\n",
       "29-1123         1781.0                123.0    47.0\n",
       "27-1024         1770.0                116.0    24.0\n",
       "13-1081         1768.0                104.0    24.0\n",
       "11-9041         1527.0                139.0    15.0\n",
       "23-1011         1469.0                119.0    54.0\n",
       "11-3031         1354.0                101.0    16.0\n",
       "17-2061         1340.0                 59.0     7.0\n",
       "17-1011         1236.0                114.0    23.0\n",
       "17-2031         1216.0                140.0    16.0\n",
       "19-3011         1198.0                110.0    11.0\n",
       "17-2131         1192.0                103.0     8.0\n",
       "25-1011         1158.0                187.0    11.0\n",
       "27-1021         1099.0                 80.0    14.0\n",
       "13-1041         1087.0                120.0    13.0\n",
       "17-2041         1072.0                101.0    24.0\n",
       "29-1063         1054.0                 88.0    18.0\n",
       "29-1021         1043.0                 68.0    24.0"
      ]
     },
     "execution_count": 26,
     "metadata": {},
     "output_type": "execute_result"
    }
   ],
   "source": [
    "approval = clean.groupby('SOC_CODE')['CASE_STATUS'].value_counts().unstack('CASE_STATUS')\n",
    "approval = approval.sort_values('CERTIFIED', ascending = False).head(50)\n",
    "approval"
   ]
  },
  {
   "cell_type": "code",
   "execution_count": 11,
   "metadata": {},
   "outputs": [],
   "source": [
    "import matplotlib.pyplot as plt"
   ]
  },
  {
   "cell_type": "code",
   "execution_count": 12,
   "metadata": {},
   "outputs": [
    {
     "data": {
      "text/plain": [
       "<matplotlib.axes._subplots.AxesSubplot at 0x13b3c1240>"
      ]
     },
     "execution_count": 12,
     "metadata": {},
     "output_type": "execute_result"
    },
    {
     "data": {
      "image/png": "[encoded data removed]",
      "text/plain": [
       "<Figure size 432x288 with 1 Axes>"
      ]
     },
     "metadata": {
      "needs_background": "light"
     },
     "output_type": "display_data"
    }
   ],
   "source": [
    "approval.CERTIFIED.plot.bar()"
   ]
  },
  {
   "cell_type": "markdown",
   "metadata": {},
   "source": [
    "## 4. Legal Assistance"
   ]
  },
  {
   "cell_type": "code",
   "execution_count": 13,
   "metadata": {},
   "outputs": [
    {
     "data": {
      "text/plain": [
       "Y    70.21\n",
       "N    29.79\n",
       "Name: AGENT_REPRESENTING_EMPLOYER, dtype: float64"
      ]
     },
     "execution_count": 13,
     "metadata": {},
     "output_type": "execute_result"
    }
   ],
   "source": [
    "legal = clean.AGENT_REPRESENTING_EMPLOYER.value_counts(normalize = True) * 100\n",
    "legal = legal.round(2)\n",
    "legal"
   ]
  },
  {
   "cell_type": "code",
   "execution_count": 14,
   "metadata": {},
   "outputs": [
    {
     "data": {
      "text/html": [
       "<div>\n",
       "<style scoped>\n",
       "    .dataframe tbody tr th:only-of-type {\n",
       "        vertical-align: middle;\n",
       "    }\n",
       "\n",
       "    .dataframe tbody tr th {\n",
       "        vertical-align: top;\n",
       "    }\n",
       "\n",
       "    .dataframe thead th {\n",
       "        text-align: right;\n",
       "    }\n",
       "</style>\n",
       "<table border=\"1\" class=\"dataframe\">\n",
       "  <thead>\n",
       "    <tr style=\"text-align: right;\">\n",
       "      <th>AGENT_REPRESENTING_EMPLOYER</th>\n",
       "      <th>N</th>\n",
       "      <th>Y</th>\n",
       "    </tr>\n",
       "    <tr>\n",
       "      <th>CASE_STATUS</th>\n",
       "      <th></th>\n",
       "      <th></th>\n",
       "    </tr>\n",
       "  </thead>\n",
       "  <tbody>\n",
       "    <tr>\n",
       "      <th>CERTIFIED</th>\n",
       "      <td>0.297176</td>\n",
       "      <td>0.702824</td>\n",
       "    </tr>\n",
       "    <tr>\n",
       "      <th>CERTIFIED-WITHDRAWN</th>\n",
       "      <td>0.326251</td>\n",
       "      <td>0.673749</td>\n",
       "    </tr>\n",
       "    <tr>\n",
       "      <th>DENIED</th>\n",
       "      <td>0.295098</td>\n",
       "      <td>0.704902</td>\n",
       "    </tr>\n",
       "  </tbody>\n",
       "</table>\n",
       "</div>"
      ],
      "text/plain": [
       "AGENT_REPRESENTING_EMPLOYER         N         Y\n",
       "CASE_STATUS                                    \n",
       "CERTIFIED                    0.297176  0.702824\n",
       "CERTIFIED-WITHDRAWN          0.326251  0.673749\n",
       "DENIED                       0.295098  0.704902"
      ]
     },
     "execution_count": 14,
     "metadata": {},
     "output_type": "execute_result"
    }
   ],
   "source": [
    "chance = clean.groupby('CASE_STATUS')[\"AGENT_REPRESENTING_EMPLOYER\"].value_counts(normalize = True).unstack(\"AGENT_REPRESENTING_EMPLOYER\")\n",
    "chance"
   ]
  },
  {
   "cell_type": "code",
   "execution_count": 15,
   "metadata": {
    "scrolled": true
   },
   "outputs": [
    {
     "data": {
      "text/plain": [
       "<matplotlib.axes._subplots.AxesSubplot at 0x140ea7748>"
      ]
     },
     "execution_count": 15,
     "metadata": {},
     "output_type": "execute_result"
    },
    {
     "data": {
      "image/png": "[encoded data removed]",
      "text/plain": [
       "<Figure size 432x288 with 1 Axes>"
      ]
     },
     "metadata": {
      "needs_background": "light"
     },
     "output_type": "display_data"
    }
   ],
   "source": [
    "chance.plot.bar()"
   ]
  },
  {
   "cell_type": "markdown",
   "metadata": {},
   "source": [
    "## 6. Employment Hours"
   ]
  },
  {
   "cell_type": "code",
   "execution_count": 16,
   "metadata": {},
   "outputs": [
    {
     "data": {
      "text/plain": [
       "Y    98.36\n",
       "N     1.64\n",
       "Name: FULL_TIME_POSITION, dtype: float64"
      ]
     },
     "execution_count": 16,
     "metadata": {},
     "output_type": "execute_result"
    }
   ],
   "source": [
    "full_prop = clean.FULL_TIME_POSITION.value_counts(normalize = True) * 100\n",
    "full_prop = full_prop.round(2)\n",
    "full_prop"
   ]
  },
  {
   "cell_type": "code",
   "execution_count": 17,
   "metadata": {},
   "outputs": [
    {
     "data": {
      "text/html": [
       "<div>\n",
       "<style scoped>\n",
       "    .dataframe tbody tr th:only-of-type {\n",
       "        vertical-align: middle;\n",
       "    }\n",
       "\n",
       "    .dataframe tbody tr th {\n",
       "        vertical-align: top;\n",
       "    }\n",
       "\n",
       "    .dataframe thead th {\n",
       "        text-align: right;\n",
       "    }\n",
       "</style>\n",
       "<table border=\"1\" class=\"dataframe\">\n",
       "  <thead>\n",
       "    <tr style=\"text-align: right;\">\n",
       "      <th>CASE_STATUS</th>\n",
       "      <th>CERTIFIED</th>\n",
       "      <th>CERTIFIED-WITHDRAWN</th>\n",
       "      <th>DENIED</th>\n",
       "    </tr>\n",
       "    <tr>\n",
       "      <th>FULL_TIME_POSITION</th>\n",
       "      <th></th>\n",
       "      <th></th>\n",
       "      <th></th>\n",
       "    </tr>\n",
       "  </thead>\n",
       "  <tbody>\n",
       "    <tr>\n",
       "      <th>N</th>\n",
       "      <td>0.921764</td>\n",
       "      <td>0.045080</td>\n",
       "      <td>0.033156</td>\n",
       "    </tr>\n",
       "    <tr>\n",
       "      <th>Y</th>\n",
       "      <td>0.927719</td>\n",
       "      <td>0.064494</td>\n",
       "      <td>0.007786</td>\n",
       "    </tr>\n",
       "  </tbody>\n",
       "</table>\n",
       "</div>"
      ],
      "text/plain": [
       "CASE_STATUS         CERTIFIED  CERTIFIED-WITHDRAWN    DENIED\n",
       "FULL_TIME_POSITION                                          \n",
       "N                    0.921764             0.045080  0.033156\n",
       "Y                    0.927719             0.064494  0.007786"
      ]
     },
     "execution_count": 17,
     "metadata": {},
     "output_type": "execute_result"
    }
   ],
   "source": [
    "full = clean.groupby('FULL_TIME_POSITION').CASE_STATUS.value_counts(normalize = True).unstack('CASE_STATUS')\n",
    "full"
   ]
  },
  {
   "cell_type": "code",
   "execution_count": 18,
   "metadata": {},
   "outputs": [
    {
     "data": {
      "text/plain": [
       "<matplotlib.axes._subplots.AxesSubplot at 0x12a74a550>"
      ]
     },
     "execution_count": 18,
     "metadata": {},
     "output_type": "execute_result"
    },
    {
     "data": {
      "image/png": "[encoded data removed]",
      "text/plain": [
       "<Figure size 432x288 with 1 Axes>"
      ]
     },
     "metadata": {
      "needs_background": "light"
     },
     "output_type": "display_data"
    }
   ],
   "source": [
    "full.plot.bar()"
   ]
  },
  {
   "cell_type": "code",
   "execution_count": 27,
   "metadata": {},
   "outputs": [
    {
     "data": {
      "text/html": [
       "<div>\n",
       "<style scoped>\n",
       "    .dataframe tbody tr th:only-of-type {\n",
       "        vertical-align: middle;\n",
       "    }\n",
       "\n",
       "    .dataframe tbody tr th {\n",
       "        vertical-align: top;\n",
       "    }\n",
       "\n",
       "    .dataframe thead th {\n",
       "        text-align: right;\n",
       "    }\n",
       "</style>\n",
       "<table border=\"1\" class=\"dataframe\">\n",
       "  <thead>\n",
       "    <tr style=\"text-align: right;\">\n",
       "      <th>CASE_STATUS</th>\n",
       "      <th>CERTIFIED</th>\n",
       "      <th>CERTIFIED-WITHDRAWN</th>\n",
       "      <th>DENIED</th>\n",
       "    </tr>\n",
       "    <tr>\n",
       "      <th>FULL_TIME_POSITION</th>\n",
       "      <th></th>\n",
       "      <th></th>\n",
       "      <th></th>\n",
       "    </tr>\n",
       "  </thead>\n",
       "  <tbody>\n",
       "    <tr>\n",
       "      <th>N</th>\n",
       "      <td>9508</td>\n",
       "      <td>465</td>\n",
       "      <td>342</td>\n",
       "    </tr>\n",
       "    <tr>\n",
       "      <th>Y</th>\n",
       "      <td>574761</td>\n",
       "      <td>39957</td>\n",
       "      <td>4824</td>\n",
       "    </tr>\n",
       "  </tbody>\n",
       "</table>\n",
       "</div>"
      ],
      "text/plain": [
       "CASE_STATUS         CERTIFIED  CERTIFIED-WITHDRAWN  DENIED\n",
       "FULL_TIME_POSITION                                        \n",
       "N                        9508                  465     342\n",
       "Y                      574761                39957    4824"
      ]
     },
     "execution_count": 27,
     "metadata": {},
     "output_type": "execute_result"
    }
   ],
   "source": [
    "full = clean.groupby('FULL_TIME_POSITION').CASE_STATUS.value_counts().unstack('CASE_STATUS')\n",
    "full"
   ]
  },
  {
   "cell_type": "markdown",
   "metadata": {},
   "source": [
    "## 7. Company's H1B Dependence"
   ]
  },
  {
   "cell_type": "code",
   "execution_count": 19,
   "metadata": {},
   "outputs": [
    {
     "data": {
      "text/plain": [
       "EMPLOYER_NAME                           CASE_STATUS\n",
       "COGNIZANT TECHNOLOGY SOLUTIONS US CORP  CERTIFIED      28105\n",
       "INFOSYS LIMITED                         CERTIFIED      21401\n",
       "TATA CONSULTANCY SERVICES LIMITED       CERTIFIED      11835\n",
       "GOOGLE LLC                              CERTIFIED       9117\n",
       "ERNST & YOUNG U.S. LLP                  CERTIFIED       8601\n",
       "CAPGEMINI AMERICA INC                   CERTIFIED       7744\n",
       "DELOITTE CONSULTING LLP                 CERTIFIED       7588\n",
       "AMAZON.COM SERVICES, INC.               CERTIFIED       6714\n",
       "MICROSOFT CORPORATION                   CERTIFIED       5889\n",
       "ACCENTURE LLP                           CERTIFIED       5487\n",
       "Name: CASE_STATUS, dtype: int64"
      ]
     },
     "execution_count": 19,
     "metadata": {},
     "output_type": "execute_result"
    }
   ],
   "source": [
    "clean.groupby('EMPLOYER_NAME').CASE_STATUS.value_counts().sort_values(ascending = False).head(10)"
   ]
  },
  {
   "cell_type": "code",
   "execution_count": null,
   "metadata": {},
   "outputs": [],
   "source": []
  },
  {
   "cell_type": "markdown",
   "metadata": {},
   "source": [
    "## 8. Employee Location"
   ]
  },
  {
   "cell_type": "code",
   "execution_count": 20,
   "metadata": {},
   "outputs": [
    {
     "data": {
      "text/plain": [
       "array(['HOUSTON', 'RICHARDSON', 'NEW BERN', ..., 'SMITHTOWN',\n",
       "       'PRESTONSBURG', 'SHILOH'], dtype=object)"
      ]
     },
     "execution_count": 20,
     "metadata": {},
     "output_type": "execute_result"
    }
   ],
   "source": [
    "location = pd.Series([i.upper() for i in clean.WORKSITE_CITY.astype(str)])\n",
    "location.unique()"
   ]
  },
  {
   "cell_type": "code",
   "execution_count": 21,
   "metadata": {},
   "outputs": [
    {
     "data": {
      "text/plain": [
       "NEW YORK         35453\n",
       "SAN FRANCISCO    18137\n",
       "CHICAGO          12822\n",
       "SUNNYVALE        12094\n",
       "SEATTLE          11582\n",
       "ATLANTA          11394\n",
       "SAN JOSE         11218\n",
       "HOUSTON          11179\n",
       "AUSTIN            9273\n",
       "MOUNTAIN VIEW     8978\n",
       "dtype: int64"
      ]
     },
     "execution_count": 21,
     "metadata": {},
     "output_type": "execute_result"
    }
   ],
   "source": [
    "location.value_counts().head(10)"
   ]
  },
  {
   "cell_type": "code",
   "execution_count": 22,
   "metadata": {},
   "outputs": [
    {
     "data": {
      "image/png": "[encoded data removed]",
      "text/plain": [
       "<Figure size 432x288 with 1 Axes>"
      ]
     },
     "metadata": {
      "needs_background": "light"
     },
     "output_type": "display_data"
    }
   ],
   "source": [
    "plt.plot(location.value_counts().reset_index().iloc[:,1])\n",
    "plt.show()"
   ]
  },
  {
   "cell_type": "code",
   "execution_count": 28,
   "metadata": {},
   "outputs": [
    {
     "data": {
      "text/plain": [
       "CERTIFIED              0.927622\n",
       "CERTIFIED-WITHDRAWN    0.064176\n",
       "DENIED                 0.008202\n",
       "Name: CASE_STATUS, dtype: float64"
      ]
     },
     "execution_count": 28,
     "metadata": {},
     "output_type": "execute_result"
    }
   ],
   "source": [
    "clean.CASE_STATUS.value_counts(normalize = True)"
   ]
  },
  {
   "cell_type": "code",
   "execution_count": null,
   "metadata": {},
   "outputs": [],
   "source": [
    "[]"
   ]
  }
 ],
 "metadata": {
  "kernelspec": {
   "display_name": "Python 3",
   "language": "python",
   "name": "python3"
  },
  "language_info": {
   "codemirror_mode": {
    "name": "ipython",
    "version": 3
   },
   "file_extension": ".py",
   "mimetype": "text/x-python",
   "name": "python",
   "nbconvert_exporter": "python",
   "pygments_lexer": "ipython3",
   "version": "3.6.9"
  }
 },
 "nbformat": 4,
 "nbformat_minor": 2
}
