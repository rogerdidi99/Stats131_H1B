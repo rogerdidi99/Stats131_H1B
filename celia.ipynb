{
 "cells": [
  {
   "cell_type": "code",
   "execution_count": 1,
   "metadata": {},
   "outputs": [],
   "source": [
    "import numpy as np\n",
    "import pandas as pd\n",
    "import matplotlib.pyplot as plt\n",
    "from IPython.core.interactiveshell import InteractiveShell\n",
    "InteractiveShell.ast_node_interactivity = \"all\""
   ]
  },
  {
   "cell_type": "code",
   "execution_count": 2,
   "metadata": {},
   "outputs": [],
   "source": [
    "df = pd.read_excel ('H-1B_Disclosure_Data_FY2019.xlsx') #for an earlier version of Excel, you may need to use the file extension of 'xls'"
   ]
  },
  {
   "cell_type": "markdown",
   "metadata": {},
   "source": [
    "### Data Cleaning "
   ]
  },
  {
   "cell_type": "code",
   "execution_count": 37,
   "metadata": {},
   "outputs": [],
   "source": [
    "clean = df.dropna(axis=1,thresh = df.shape[0]/3)"
   ]
  },
  {
   "cell_type": "code",
   "execution_count": 38,
   "metadata": {},
   "outputs": [],
   "source": [
    "clean = clean.query('VISA_CLASS == \"H-1B\"')"
   ]
  },
  {
   "cell_type": "code",
   "execution_count": 5,
   "metadata": {},
   "outputs": [],
   "source": [
    "clean = clean.query('CASE_STATUS != \"WITHDRAWN\"')"
   ]
  },
  {
   "cell_type": "code",
   "execution_count": 6,
   "metadata": {},
   "outputs": [
    {
     "data": {
      "text/plain": [
       "(629857, 46)"
      ]
     },
     "execution_count": 6,
     "metadata": {},
     "output_type": "execute_result"
    }
   ],
   "source": [
    "clean.shape"
   ]
  },
  {
   "cell_type": "markdown",
   "metadata": {},
   "source": [
    "### Data Analysis"
   ]
  },
  {
   "cell_type": "markdown",
   "metadata": {},
   "source": [
    "### 1. Case Status"
   ]
  },
  {
   "cell_type": "code",
   "execution_count": 7,
   "metadata": {},
   "outputs": [
    {
     "data": {
      "text/plain": [
       "CASE_STATUS\n",
       "CERTIFIED              584269\n",
       "CERTIFIED-WITHDRAWN     40422\n",
       "DENIED                   5166\n",
       "Name: CASE_STATUS, dtype: int64"
      ]
     },
     "execution_count": 7,
     "metadata": {},
     "output_type": "execute_result"
    }
   ],
   "source": [
    "clean.groupby('CASE_STATUS')['CASE_STATUS'].count()"
   ]
  },
  {
   "cell_type": "markdown",
   "metadata": {},
   "source": [
    "### 2. Employment Start & End Date"
   ]
  },
  {
   "cell_type": "markdown",
   "metadata": {},
   "source": [
    "#### a. Time length of the employment for these applications"
   ]
  },
  {
   "cell_type": "code",
   "execution_count": 8,
   "metadata": {},
   "outputs": [],
   "source": [
    "clean['diff'] = clean.EMPLOYMENT_END_DATE-clean.EMPLOYMENT_START_DATE"
   ]
  },
  {
   "cell_type": "markdown",
   "metadata": {},
   "source": [
    "#### b. How often does an applicant need to renew their visa?"
   ]
  },
  {
   "cell_type": "code",
   "execution_count": 9,
   "metadata": {},
   "outputs": [
    {
     "data": {
      "text/plain": [
       "diff\n",
       "-1 days      4\n",
       "1 days       7\n",
       "2 days       2\n",
       "3 days       2\n",
       "4 days       7\n",
       "            ..\n",
       "1112 days    1\n",
       "1126 days    1\n",
       "1165 days    1\n",
       "1357 days    1\n",
       "1460 days    5\n",
       "Name: CASE_STATUS, Length: 1105, dtype: int64"
      ]
     },
     "execution_count": 9,
     "metadata": {},
     "output_type": "execute_result"
    }
   ],
   "source": [
    "clean.groupby('diff')['CASE_STATUS'].count()"
   ]
  },
  {
   "cell_type": "code",
   "execution_count": 10,
   "metadata": {},
   "outputs": [
    {
     "data": {
      "text/html": [
       "<div>\n",
       "<style scoped>\n",
       "    .dataframe tbody tr th:only-of-type {\n",
       "        vertical-align: middle;\n",
       "    }\n",
       "\n",
       "    .dataframe tbody tr th {\n",
       "        vertical-align: top;\n",
       "    }\n",
       "\n",
       "    .dataframe thead th {\n",
       "        text-align: right;\n",
       "    }\n",
       "</style>\n",
       "<table border=\"1\" class=\"dataframe\">\n",
       "  <thead>\n",
       "    <tr style=\"text-align: right;\">\n",
       "      <th></th>\n",
       "      <th>CASE_NUMBER</th>\n",
       "      <th>CASE_STATUS</th>\n",
       "      <th>CASE_SUBMITTED</th>\n",
       "      <th>DECISION_DATE</th>\n",
       "      <th>VISA_CLASS</th>\n",
       "      <th>EMPLOYMENT_START_DATE</th>\n",
       "      <th>EMPLOYMENT_END_DATE</th>\n",
       "      <th>EMPLOYER_NAME</th>\n",
       "      <th>EMPLOYER_ADDRESS</th>\n",
       "      <th>EMPLOYER_CITY</th>\n",
       "      <th>...</th>\n",
       "      <th>WAGE_RATE_OF_PAY_TO</th>\n",
       "      <th>WAGE_UNIT_OF_PAY</th>\n",
       "      <th>H1B_DEPENDENT</th>\n",
       "      <th>WORKSITE_CITY</th>\n",
       "      <th>WORKSITE_COUNTY</th>\n",
       "      <th>WORKSITE_STATE</th>\n",
       "      <th>WORKSITE_POSTAL_CODE</th>\n",
       "      <th>WILLFUL_VIOLATOR</th>\n",
       "      <th>SUPPORT_H1B</th>\n",
       "      <th>diff</th>\n",
       "    </tr>\n",
       "  </thead>\n",
       "  <tbody>\n",
       "    <tr>\n",
       "      <td>213743</td>\n",
       "      <td>I-200-19064-915612</td>\n",
       "      <td>DENIED</td>\n",
       "      <td>2019-03-05</td>\n",
       "      <td>2019-03-11</td>\n",
       "      <td>H-1B</td>\n",
       "      <td>2019-09-01</td>\n",
       "      <td>2019-08-31</td>\n",
       "      <td>VSION TECHNOLOGIES INC.</td>\n",
       "      <td>507 DENALI PASS SUITE 602</td>\n",
       "      <td>CEDAR PARK</td>\n",
       "      <td>...</td>\n",
       "      <td>116000.0</td>\n",
       "      <td>Year</td>\n",
       "      <td>Y</td>\n",
       "      <td>Princeton</td>\n",
       "      <td>Mercer</td>\n",
       "      <td>NJ</td>\n",
       "      <td>08540</td>\n",
       "      <td>N</td>\n",
       "      <td>Y</td>\n",
       "      <td>-1 days</td>\n",
       "    </tr>\n",
       "    <tr>\n",
       "      <td>265353</td>\n",
       "      <td>I-200-19228-946322</td>\n",
       "      <td>DENIED</td>\n",
       "      <td>2019-08-26</td>\n",
       "      <td>2019-08-27</td>\n",
       "      <td>H-1B</td>\n",
       "      <td>2019-08-23</td>\n",
       "      <td>2019-08-22</td>\n",
       "      <td>SERVICENOW, INC.</td>\n",
       "      <td>2225 LAWSON LANE</td>\n",
       "      <td>SANTA CLARA</td>\n",
       "      <td>...</td>\n",
       "      <td>140000.0</td>\n",
       "      <td>Year</td>\n",
       "      <td>N</td>\n",
       "      <td>Santa Clara</td>\n",
       "      <td>Santa Clara</td>\n",
       "      <td>CA</td>\n",
       "      <td>95054</td>\n",
       "      <td>N</td>\n",
       "      <td>NaN</td>\n",
       "      <td>-1 days</td>\n",
       "    </tr>\n",
       "    <tr>\n",
       "      <td>320518</td>\n",
       "      <td>I-200-19158-430239</td>\n",
       "      <td>DENIED</td>\n",
       "      <td>2019-06-07</td>\n",
       "      <td>2019-06-11</td>\n",
       "      <td>H-1B</td>\n",
       "      <td>2019-11-29</td>\n",
       "      <td>2019-11-28</td>\n",
       "      <td>GOOGLE LLC</td>\n",
       "      <td>1600 AMPHITHEATRE PARKWAY</td>\n",
       "      <td>MOUNTAIN VIEW</td>\n",
       "      <td>...</td>\n",
       "      <td>204000.0</td>\n",
       "      <td>Year</td>\n",
       "      <td>N</td>\n",
       "      <td>Mountain View</td>\n",
       "      <td>Santa Clara</td>\n",
       "      <td>CA</td>\n",
       "      <td>94043</td>\n",
       "      <td>N</td>\n",
       "      <td>NaN</td>\n",
       "      <td>-1 days</td>\n",
       "    </tr>\n",
       "    <tr>\n",
       "      <td>491745</td>\n",
       "      <td>I-200-19260-866082</td>\n",
       "      <td>DENIED</td>\n",
       "      <td>2019-09-17</td>\n",
       "      <td>2019-09-18</td>\n",
       "      <td>H-1B</td>\n",
       "      <td>2019-09-17</td>\n",
       "      <td>2019-09-16</td>\n",
       "      <td>CIBER GLOBAL LLC</td>\n",
       "      <td>3270 WEST BIG BEAVER ROAD</td>\n",
       "      <td>TROY</td>\n",
       "      <td>...</td>\n",
       "      <td>NaN</td>\n",
       "      <td>Year</td>\n",
       "      <td>N</td>\n",
       "      <td>Baton Rouge</td>\n",
       "      <td>East Baton Rouge Parish</td>\n",
       "      <td>LA</td>\n",
       "      <td>70802</td>\n",
       "      <td>N</td>\n",
       "      <td>NaN</td>\n",
       "      <td>-1 days</td>\n",
       "    </tr>\n",
       "  </tbody>\n",
       "</table>\n",
       "<p>4 rows × 47 columns</p>\n",
       "</div>"
      ],
      "text/plain": [
       "               CASE_NUMBER CASE_STATUS CASE_SUBMITTED DECISION_DATE  \\\n",
       "213743  I-200-19064-915612      DENIED     2019-03-05    2019-03-11   \n",
       "265353  I-200-19228-946322      DENIED     2019-08-26    2019-08-27   \n",
       "320518  I-200-19158-430239      DENIED     2019-06-07    2019-06-11   \n",
       "491745  I-200-19260-866082      DENIED     2019-09-17    2019-09-18   \n",
       "\n",
       "       VISA_CLASS EMPLOYMENT_START_DATE EMPLOYMENT_END_DATE  \\\n",
       "213743       H-1B            2019-09-01          2019-08-31   \n",
       "265353       H-1B            2019-08-23          2019-08-22   \n",
       "320518       H-1B            2019-11-29          2019-11-28   \n",
       "491745       H-1B            2019-09-17          2019-09-16   \n",
       "\n",
       "                  EMPLOYER_NAME           EMPLOYER_ADDRESS  EMPLOYER_CITY  \\\n",
       "213743  VSION TECHNOLOGIES INC.  507 DENALI PASS SUITE 602     CEDAR PARK   \n",
       "265353         SERVICENOW, INC.           2225 LAWSON LANE    SANTA CLARA   \n",
       "320518               GOOGLE LLC  1600 AMPHITHEATRE PARKWAY  MOUNTAIN VIEW   \n",
       "491745         CIBER GLOBAL LLC  3270 WEST BIG BEAVER ROAD           TROY   \n",
       "\n",
       "        ... WAGE_RATE_OF_PAY_TO WAGE_UNIT_OF_PAY H1B_DEPENDENT  WORKSITE_CITY  \\\n",
       "213743  ...            116000.0             Year             Y      Princeton   \n",
       "265353  ...            140000.0             Year             N    Santa Clara   \n",
       "320518  ...            204000.0             Year             N  Mountain View   \n",
       "491745  ...                 NaN             Year             N    Baton Rouge   \n",
       "\n",
       "                WORKSITE_COUNTY WORKSITE_STATE WORKSITE_POSTAL_CODE  \\\n",
       "213743                   Mercer             NJ                08540   \n",
       "265353              Santa Clara             CA                95054   \n",
       "320518              Santa Clara             CA                94043   \n",
       "491745  East Baton Rouge Parish             LA                70802   \n",
       "\n",
       "       WILLFUL_VIOLATOR SUPPORT_H1B    diff  \n",
       "213743                N           Y -1 days  \n",
       "265353                N         NaN -1 days  \n",
       "320518                N         NaN -1 days  \n",
       "491745                N         NaN -1 days  \n",
       "\n",
       "[4 rows x 47 columns]"
      ]
     },
     "execution_count": 10,
     "metadata": {},
     "output_type": "execute_result"
    }
   ],
   "source": [
    "clean[clean['diff'] == '-1 days +00:00:00']"
   ]
  },
  {
   "cell_type": "code",
   "execution_count": 11,
   "metadata": {},
   "outputs": [],
   "source": [
    "clean_timediff = clean[clean['diff'] != '-1 days +00:00:00']"
   ]
  },
  {
   "cell_type": "code",
   "execution_count": 12,
   "metadata": {},
   "outputs": [
    {
     "data": {
      "text/plain": [
       "<matplotlib.axes._subplots.AxesSubplot at 0x14cf88950>"
      ]
     },
     "execution_count": 12,
     "metadata": {},
     "output_type": "execute_result"
    },
    {
     "data": {
      "image/png": "[encoded data removed]",
      "text/plain": [
       "<Figure size 432x288 with 1 Axes>"
      ]
     },
     "metadata": {
      "needs_background": "light"
     },
     "output_type": "display_data"
    }
   ],
   "source": [
    "clean_timediff.groupby('diff')['CASE_STATUS'].count().plot()"
   ]
  },
  {
   "cell_type": "code",
   "execution_count": 13,
   "metadata": {},
   "outputs": [
    {
     "data": {
      "text/plain": [
       "1104"
      ]
     },
     "execution_count": 13,
     "metadata": {},
     "output_type": "execute_result"
    }
   ],
   "source": [
    "len(clean_timediff.groupby('diff')['CASE_STATUS'].count())"
   ]
  },
  {
   "cell_type": "code",
   "execution_count": 14,
   "metadata": {},
   "outputs": [
    {
     "data": {
      "text/plain": [
       "Timedelta('1095 days 00:00:00')"
      ]
     },
     "execution_count": 14,
     "metadata": {},
     "output_type": "execute_result"
    }
   ],
   "source": [
    "clean_timediff.groupby('diff')['CASE_STATUS'].count().idxmax()"
   ]
  },
  {
   "cell_type": "code",
   "execution_count": 15,
   "metadata": {},
   "outputs": [
    {
     "data": {
      "text/plain": [
       "61.629618339517314"
      ]
     },
     "execution_count": 15,
     "metadata": {},
     "output_type": "execute_result"
    }
   ],
   "source": [
    "(clean_timediff.groupby('diff')['CASE_STATUS'].count().max())/clean_timediff.shape[0]*100"
   ]
  },
  {
   "cell_type": "markdown",
   "metadata": {},
   "source": [
    "### 3."
   ]
  },
  {
   "cell_type": "markdown",
   "metadata": {},
   "source": [
    "### 4."
   ]
  },
  {
   "cell_type": "markdown",
   "metadata": {},
   "source": [
    "### 5.  Employment Title/Categories (JOB_TITLE/SOC_CODE/SOC_NAME)"
   ]
  },
  {
   "cell_type": "markdown",
   "metadata": {},
   "source": [
    "Since the variable JOB_TITLE is quite specific and contains a lot of keywords that are not easy to group by, we discovered that the first 2 digits of SOC_CODE indicates the subcategory of a job. So by extracting that and maping with the offical list, we can divide those job positions into major categories."
   ]
  },
  {
   "cell_type": "code",
   "execution_count": 16,
   "metadata": {},
   "outputs": [
    {
     "data": {
      "text/plain": [
       "24"
      ]
     },
     "execution_count": 16,
     "metadata": {},
     "output_type": "execute_result"
    },
    {
     "data": {
      "text/plain": [
       "15    442841\n",
       "17     49915\n",
       "13     46221\n",
       "19     23661\n",
       "11     21727\n",
       "29     15991\n",
       "25     15273\n",
       "27      6996\n",
       "41      3171\n",
       "23      2245\n",
       "21      1175\n",
       "43       327\n",
       "39        78\n",
       "35        55\n",
       "53        42\n",
       "51        37\n",
       "47        33\n",
       "49        26\n",
       "31        16\n",
       "33        11\n",
       "45         6\n",
       "37         3\n",
       "12         2\n",
       "OP         1\n",
       "Name: SOC_CODE, dtype: int64"
      ]
     },
     "execution_count": 16,
     "metadata": {},
     "output_type": "execute_result"
    }
   ],
   "source": [
    "clean.SOC_CODE.str[0:2].value_counts().count()\n",
    "clean.SOC_CODE.str[0:2].value_counts()"
   ]
  },
  {
   "cell_type": "code",
   "execution_count": 131,
   "metadata": {},
   "outputs": [
    {
     "name": "stderr",
     "output_type": "stream",
     "text": [
      "/opt/anaconda3/lib/python3.7/site-packages/pandas/core/generic.py:5208: SettingWithCopyWarning: \n",
      "A value is trying to be set on a copy of a slice from a DataFrame.\n",
      "Try using .loc[row_indexer,col_indexer] = value instead\n",
      "\n",
      "See the caveats in the documentation: http://pandas.pydata.org/pandas-docs/stable/user_guide/indexing.html#returning-a-view-versus-a-copy\n",
      "  self[name] = value\n"
     ]
    },
    {
     "data": {
      "text/plain": [
       "487525    OPERATIONS RESEARCH ANALYSTS\n",
       "Name: SOC_CODE, dtype: object"
      ]
     },
     "execution_count": 131,
     "metadata": {},
     "output_type": "execute_result"
    }
   ],
   "source": [
    "# Found that there is one unusual value 'OP'. With further examination, we found that the input was incorrectly aligned. So the SOC_CODE is in the SOC_NAME column.\n",
    "clean.loc[clean.SOC_CODE.str[0:2]=='OP'].SOC_CODE='15-2031'\n",
    "clean.loc[clean.SOC_CODE.str[0:2]=='OP'].SOC_CODE"
   ]
  },
  {
   "cell_type": "markdown",
   "metadata": {},
   "source": [
    "clean.SOC_CODE.replace({'OPERATIONS RESEARCH ANALYSTS':15-2031},inplace=True)"
   ]
  },
  {
   "cell_type": "code",
   "execution_count": 133,
   "metadata": {},
   "outputs": [],
   "source": [
    "dict = {'11' : 'Management Occupations',\n",
    "'13' : 'Business and Financial Operations Occupations',\n",
    "'15' : 'Computer and Mathematical Occupations',\n",
    "'17' : 'Architecture and Engineering Occupations',\n",
    "'19' : 'Life, Physical, and Social Science Occupations',\n",
    "'21' : 'Community and Social Service Occupations',\n",
    "'23' : 'Legal Occupations',\n",
    "'25' : 'Education, Training, and Library Occupations',\n",
    "'27' : 'Arts, Design, Entertainment, Sports, and Media Occupations',\n",
    "'29' : 'Healthcare Practitioners and Technical Occupations',\n",
    "'31' : 'Healthcare Support Occupations',\n",
    "'33' : 'Protective Service Occupations',\n",
    "'35' : 'Food Preparation and Serving Related Occupations',\n",
    "'37' : 'Building and Grounds Cleaning and Maintenance Occupations',\n",
    "'39' : 'Personal Care and Service Occupations',\n",
    "'41' : 'Sales and Related Occupations',\n",
    "'43' : 'Office and Administrative Support Occupations',\n",
    "'45' : 'Farming, Fishing, and Forestry Occupations',\n",
    "'47' : 'Construction and Extraction Occupations',\n",
    "'49' : 'Installation, Maintenance, and Repair Occupations',\n",
    "'51' : 'Production Occupations',\n",
    "'53' : 'Transportation and Material Moving Occupations'}"
   ]
  },
  {
   "cell_type": "code",
   "execution_count": 134,
   "metadata": {},
   "outputs": [],
   "source": [
    "clean['JOB_TYPE']=clean.SOC_CODE.str[0:2].map(dict)"
   ]
  },
  {
   "cell_type": "code",
   "execution_count": 135,
   "metadata": {},
   "outputs": [
    {
     "data": {
      "text/plain": [
       "([<matplotlib.patches.Wedge at 0x175fa2d10>,\n",
       "  <matplotlib.patches.Wedge at 0x175fa2590>,\n",
       "  <matplotlib.patches.Wedge at 0x1763ab290>,\n",
       "  <matplotlib.patches.Wedge at 0x1763aba90>,\n",
       "  <matplotlib.patches.Wedge at 0x1763b54d0>,\n",
       "  <matplotlib.patches.Wedge at 0x1763b5d50>,\n",
       "  <matplotlib.patches.Wedge at 0x1763c3350>,\n",
       "  <matplotlib.patches.Wedge at 0x1763c3b10>,\n",
       "  <matplotlib.patches.Wedge at 0x1763b5290>,\n",
       "  <matplotlib.patches.Wedge at 0x1763b5b10>,\n",
       "  <matplotlib.patches.Wedge at 0x126232c10>,\n",
       "  <matplotlib.patches.Wedge at 0x16c119f90>,\n",
       "  <matplotlib.patches.Wedge at 0x16c10c190>,\n",
       "  <matplotlib.patches.Wedge at 0x13f90a2d0>,\n",
       "  <matplotlib.patches.Wedge at 0x16c0fa090>,\n",
       "  <matplotlib.patches.Wedge at 0x13f90d8d0>,\n",
       "  <matplotlib.patches.Wedge at 0x1394ae3d0>,\n",
       "  <matplotlib.patches.Wedge at 0x126232590>,\n",
       "  <matplotlib.patches.Wedge at 0x1763d47d0>,\n",
       "  <matplotlib.patches.Wedge at 0x1763d4f90>,\n",
       "  <matplotlib.patches.Wedge at 0x16c0f3790>,\n",
       "  <matplotlib.patches.Wedge at 0x16c0f3f50>],\n",
       " [Text(-0.6523284962909962, 0.8857017178072581, ''),\n",
       "  Text(-0.05631967332140326, -1.098557278614534, ''),\n",
       "  Text(0.45771665187032695, -1.0002477026220145, ''),\n",
       "  Text(0.7722473089876134, -0.7833480029727464, ''),\n",
       "  Text(0.9290427015804161, -0.5889649044214453, ''),\n",
       "  Text(1.0231096339594246, -0.4040379646758611, ''),\n",
       "  Text(1.073619624018898, -0.23945960603308541, ''),\n",
       "  Text(1.0936247608278342, -0.11825769532788441, ''),\n",
       "  Text(1.0982314493809786, -0.06235129181143782, ''),\n",
       "  Text(1.0995226051446636, -0.032404332671606785, ''),\n",
       "  Text(1.0999177166440908, -0.013454241429755891, ''),\n",
       "  Text(1.0999878255142272, -0.005175299071780239, ''),\n",
       "  Text(1.0999961301437953, -0.002917819164196045, ''),\n",
       "  Text(1.0999978231476009, -0.0021883945118956884, ''),\n",
       "  Text(1.0999987374502718, -0.0016666156750552938, ''),\n",
       "  Text(1.099999306323566, -0.0012353492113019008, ''),\n",
       "  Text(1.09999967004275, -0.0008520010806509549, ''),\n",
       "  Text(1.0999998710893817, -0.0005325442178019257, ''),\n",
       "  Text(1.0999999566207843, -0.00030892438045123527, ''),\n",
       "  Text(1.0999999875996729, -0.00016516876160715995, ''),\n",
       "  Text(1.099999997466585, -7.465596423468143e-05, ''),\n",
       "  Text(1.0999999997915806, -2.1413143085152237e-05, '')],\n",
       " [Text(-0.35581554343145244, 0.483110027894868, '70.2%'),\n",
       "  Text(-0.0307198218116745, -0.599213061062473, '8.0%'),\n",
       "  Text(0.2496636282929056, -0.5455896559756442, '7.3%'),\n",
       "  Text(0.4212258049023345, -0.42728072889422525, '3.8%'),\n",
       "  Text(0.5067505644984087, -0.3212535842298792, '3.5%'),\n",
       "  Text(0.5580598003415043, -0.22038434436865148, '2.5%'),\n",
       "  Text(0.5856107040103079, -0.1306143305635011, '2.4%'),\n",
       "  Text(0.5965225968151822, -0.0645041974515733, '1.1%'),\n",
       "  Text(0.5990353360259882, -0.034009795533511536, '0.5%'),\n",
       "  Text(0.5997396028061801, -0.017675090548149152, '0.4%'),\n",
       "  Text(0.599955118169504, -0.007338677143503213, '0.2%'),\n",
       "  Text(0.5999933593713965, -0.0028228904027892215, '0.1%'),\n",
       "  Text(0.5999978891693428, -0.0015915377259251152, '0.0%'),\n",
       "  Text(0.599998812625964, -0.0011936697337612844, '0.0%'),\n",
       "  Text(0.5999993113365119, -0.0009090630954847055, '0.0%'),\n",
       "  Text(0.5999996216310359, -0.0006738268425283095, '0.0%'),\n",
       "  Text(0.5999998200233181, -0.00046472786217324806, '0.0%'),\n",
       "  Text(0.5999999296851172, -0.0002904786642555958, '0.0%'),\n",
       "  Text(0.5999999763386096, -0.0001685042075188556, '0.0%'),\n",
       "  Text(0.5999999932361851, -9.009205178572361e-05, '0.0%'),\n",
       "  Text(0.5999999986181372, -4.072143503709896e-05, '0.0%'),\n",
       "  Text(0.5999999998863167, -1.1679896228264855e-05, '0.0%')])"
      ]
     },
     "execution_count": 135,
     "metadata": {},
     "output_type": "execute_result"
    },
    {
     "data": {
      "text/plain": [
       "<matplotlib.legend.Legend at 0x174e7e350>"
      ]
     },
     "execution_count": 135,
     "metadata": {},
     "output_type": "execute_result"
    },
    {
     "data": {
      "image/png": "[encoded data removed]",
      "text/plain": [
       "<Figure size 432x288 with 1 Axes>"
      ]
     },
     "metadata": {},
     "output_type": "display_data"
    }
   ],
   "source": [
    "plt.pie(clean['JOB_TYPE'].value_counts(normalize=True), autopct='%.1f%%')\n",
    "plt.legend(clean['JOB_TYPE'].value_counts(normalize=True).index,bbox_to_anchor=(1, 1.05))"
   ]
  },
  {
   "cell_type": "code",
   "execution_count": null,
   "metadata": {},
   "outputs": [],
   "source": []
  },
  {
   "cell_type": "markdown",
   "metadata": {},
   "source": []
  },
  {
   "cell_type": "markdown",
   "metadata": {},
   "source": [
    "### 3.Employer Location (City, Postal Code, etc.)"
   ]
  },
  {
   "cell_type": "code",
   "execution_count": 22,
   "metadata": {
    "scrolled": true
   },
   "outputs": [
    {
     "data": {
      "text/plain": [
       "<matplotlib.axes._subplots.AxesSubplot at 0x14f7a6810>"
      ]
     },
     "execution_count": 22,
     "metadata": {},
     "output_type": "execute_result"
    },
    {
     "data": {
      "image/png": "[encoded data removed]",
      "text/plain": [
       "<Figure size 432x288 with 1 Axes>"
      ]
     },
     "metadata": {
      "needs_background": "light"
     },
     "output_type": "display_data"
    }
   ],
   "source": [
    "clean.EMPLOYER_STATE.value_counts().head(10).plot.bar()\n",
    "# The top 3 states with most job opportunities are California, Texas, and New Jersey."
   ]
  },
  {
   "cell_type": "code",
   "execution_count": 23,
   "metadata": {
    "scrolled": true
   },
   "outputs": [
    {
     "data": {
      "text/plain": [
       "<matplotlib.axes._subplots.AxesSubplot at 0x12212bf10>"
      ]
     },
     "execution_count": 23,
     "metadata": {},
     "output_type": "execute_result"
    },
    {
     "data": {
      "image/png": "[encoded data removed]",
      "text/plain": [
       "<Figure size 432x288 with 1 Axes>"
      ]
     },
     "metadata": {
      "needs_background": "light"
     },
     "output_type": "display_data"
    }
   ],
   "source": [
    "clean.EMPLOYER_STATE.value_counts().tail(10).plot.bar()\n",
    "# The top 3 areas with least job opportunities are Palau, Federated States of Micronesia, and Virgin Islands."
   ]
  },
  {
   "cell_type": "code",
   "execution_count": 24,
   "metadata": {},
   "outputs": [],
   "source": [
    "#clean.EMPLOYER_POSTAL_CODE.str[0].value_counts()[0:10].plot.bar()\n",
    "index=clean.EMPLOYER_POSTAL_CODE.str[0].str.isdigit()\n",
    "index=index.fillna(False)\n",
    "# The first digit of zip codes represents the national area. (US is divided into 9 differents regions in this way) We ignore all the zip codes not starting with a digit of 0-9."
   ]
  },
  {
   "cell_type": "code",
   "execution_count": 25,
   "metadata": {},
   "outputs": [
    {
     "data": {
      "text/plain": [
       "<matplotlib.axes._subplots.AxesSubplot at 0x1367c4f90>"
      ]
     },
     "execution_count": 25,
     "metadata": {},
     "output_type": "execute_result"
    },
    {
     "data": {
      "image/png": "[encoded data removed]",
      "text/plain": [
       "<Figure size 432x288 with 1 Axes>"
      ]
     },
     "metadata": {},
     "output_type": "display_data"
    }
   ],
   "source": [
    "clean[index.tolist()].EMPLOYER_POSTAL_CODE.str[0].value_counts(normalize=True).plot.pie(autopct='%.1f%%')\n",
    "# We can see codes starting with 9 gets the highest job opportunities. 9 represents the west coast regions and some outlying islands. This makes sense because it includes states like CA and WA.\n",
    "# The following high frequency regions starts with 0 and 7, with 0 representing the New England region and 1 being Arkansas, Louisiana, Oklahoma, Texas.\n",
    "# https://smartystreets.com/docs/zip-codes-101"
   ]
  },
  {
   "cell_type": "code",
   "execution_count": null,
   "metadata": {},
   "outputs": [],
   "source": []
  },
  {
   "cell_type": "code",
   "execution_count": null,
   "metadata": {},
   "outputs": [],
   "source": []
  },
  {
   "cell_type": "markdown",
   "metadata": {},
   "source": [
    "### 8.Employee Location (WORKSITE_CITY/COUNTY)"
   ]
  },
  {
   "cell_type": "code",
   "execution_count": 26,
   "metadata": {
    "scrolled": true
   },
   "outputs": [
    {
     "data": {
      "text/plain": [
       "<matplotlib.axes._subplots.AxesSubplot at 0x1365f0910>"
      ]
     },
     "execution_count": 26,
     "metadata": {},
     "output_type": "execute_result"
    },
    {
     "data": {
      "image/png": "[encoded data removed]",
      "text/plain": [
       "<Figure size 432x288 with 1 Axes>"
      ]
     },
     "metadata": {
      "needs_background": "light"
     },
     "output_type": "display_data"
    }
   ],
   "source": [
    "clean.WORKSITE_STATE.value_counts().head(10).plot.bar()\n",
    "# The top 3 states with most job opportunities are California, Texas, and New York."
   ]
  },
  {
   "cell_type": "code",
   "execution_count": 27,
   "metadata": {
    "scrolled": true
   },
   "outputs": [
    {
     "data": {
      "text/plain": [
       "<matplotlib.axes._subplots.AxesSubplot at 0x1375c2cd0>"
      ]
     },
     "execution_count": 27,
     "metadata": {},
     "output_type": "execute_result"
    },
    {
     "data": {
      "image/png": "[encoded data removed]",
      "text/plain": [
       "<Figure size 432x288 with 1 Axes>"
      ]
     },
     "metadata": {
      "needs_background": "light"
     },
     "output_type": "display_data"
    }
   ],
   "source": [
    "clean.WORKSITE_STATE.value_counts().tail(10).plot.bar()\n",
    "# The top 3 areas with least job opportunities are Palau, Marshall Islands, and Virgin Islands."
   ]
  },
  {
   "cell_type": "code",
   "execution_count": 28,
   "metadata": {},
   "outputs": [],
   "source": [
    "index=clean.WORKSITE_POSTAL_CODE.str[0].str.isdigit()\n",
    "index=index.fillna(False)"
   ]
  },
  {
   "cell_type": "code",
   "execution_count": 29,
   "metadata": {},
   "outputs": [
    {
     "data": {
      "text/plain": [
       "<matplotlib.axes._subplots.AxesSubplot at 0x1376f18d0>"
      ]
     },
     "execution_count": 29,
     "metadata": {},
     "output_type": "execute_result"
    },
    {
     "data": {
      "image/png": "[encoded data removed]",
      "text/plain": [
       "<Figure size 432x288 with 1 Axes>"
      ]
     },
     "metadata": {},
     "output_type": "display_data"
    }
   ],
   "source": [
    "clean[index.tolist()].WORKSITE_POSTAL_CODE.str[0].value_counts(normalize=True).plot.pie(autopct='%.1f%%')\n",
    "# We can see areas with code that starts with 9 are the most desired working area among employees. 9 represents the west coast regions and some outlying islands. This makes sense because it includes states like CA and WA.\n",
    "# The following high frequency regions starts with 0 and 1, with 0 representing the New England region and 1 being Delaware, New York, and Pennsylvania.\n",
    "# The overall distribution matches the job opportunity locations pretty well.\n",
    "# https://smartystreets.com/docs/zip-codes-101"
   ]
  },
  {
   "cell_type": "code",
   "execution_count": null,
   "metadata": {},
   "outputs": [],
   "source": []
  },
  {
   "cell_type": "code",
   "execution_count": null,
   "metadata": {},
   "outputs": [],
   "source": []
  },
  {
   "cell_type": "code",
   "execution_count": 30,
   "metadata": {},
   "outputs": [
    {
     "data": {
      "text/plain": [
       "9    138801\n",
       "0    113105\n",
       "7    102975\n",
       "1     68412\n",
       "2     57488\n",
       "6     48019\n",
       "4     38230\n",
       "3     37509\n",
       "8     13745\n",
       "5     11470\n",
       "V        21\n",
       "S        19\n",
       "N        14\n",
       "C         9\n",
       "M         7\n",
       "L         5\n",
       "K         3\n",
       "H         3\n",
       "D         2\n",
       "F         2\n",
       "E         2\n",
       "A         1\n",
       "B         1\n",
       "R         1\n",
       "O         1\n",
       "W         1\n",
       "P         1\n",
       "J         1\n",
       "Name: EMPLOYER_POSTAL_CODE, dtype: int64"
      ]
     },
     "execution_count": 30,
     "metadata": {},
     "output_type": "execute_result"
    },
    {
     "data": {
      "text/plain": [
       "964       LOS ANGELES\n",
       "10437           MOORE\n",
       "38263        MA 01453\n",
       "58760            COOK\n",
       "59446            KING\n",
       "             ...     \n",
       "641007       NEW YORK\n",
       "646961    SANTA CLARA\n",
       "648035       NEW YORK\n",
       "656651       NEW YORK\n",
       "656781           COOK\n",
       "Name: EMPLOYER_POSTAL_CODE, Length: 94, dtype: object"
      ]
     },
     "execution_count": 30,
     "metadata": {},
     "output_type": "execute_result"
    }
   ],
   "source": [
    "clean.EMPLOYER_POSTAL_CODE.str[0].value_counts()\n",
    "nondigit_index=np.logical_not(clean.EMPLOYER_POSTAL_CODE.str[0].str.isdigit())\n",
    "clean[nondigit_index.tolist()].EMPLOYER_POSTAL_CODE\n",
    "# Deal with inccorect postal codes, since there's just 94 observations with incorrect format, which is less than 1% of our data, we can choose to drop those values.\n",
    "#clean.loc[clean[nondigit_index.tolist()].EMPLOYER_POSTAL_CODE.index].EMPLOYER_STATE"
   ]
  },
  {
   "cell_type": "markdown",
   "metadata": {},
   "source": [
    "#Form ETA 9035/9035E, Labor condition application (LCA), is a document that a prospective H-1B employer files with ETA when it seeks to employ nonimmigrant workers at a specific job occupation in an area of intended employment for not more than three years. In this document, the employer attests to standards to which it will adhere."
   ]
  },
  {
   "cell_type": "code",
   "execution_count": 67,
   "metadata": {},
   "outputs": [
    {
     "name": "stdout",
     "output_type": "stream",
     "text": [
      "[4 5 8 ... 3 4 3]\n"
     ]
    }
   ],
   "source": [
    "from sklearn import preprocessing\n",
    "le = preprocessing.LabelEncoder()"
   ]
  },
  {
   "cell_type": "code",
   "execution_count": 171,
   "metadata": {},
   "outputs": [
    {
     "data": {
      "text/plain": [
       "N    411439\n",
       "Y    237623\n",
       "Name: H1B_DEPENDENT, dtype: int64"
      ]
     },
     "execution_count": 171,
     "metadata": {},
     "output_type": "execute_result"
    }
   ],
   "source": [
    "clean.H1B_DEPENDENT.value_counts(dropna=False)\n",
    "# drop those observations with missing H1B_DEPENDENT values\n",
    "df=clean.dropna(subset=['H1B_DEPENDENT'])\n",
    "\n",
    "df['INDUSTRY_CODE']=df.SOC_CODE.str[0:2]\n",
    "df = df.query('INDUSTRY_CODE != \"OP\"')\n",
    "df = df[np.isnan(df.INDUSTRY_CODE.astype(float))==False]\n",
    "\n",
    "\n",
    "# subset to only the correctly formatted postal codes (starts with 0-9)\n",
    "index=df.EMPLOYER_POSTAL_CODE.str[0].str.isdigit()\n",
    "index=index.fillna(False)\n",
    "\n",
    "soc_encoded=df[index.tolist()].SOC_CODE.str[0:2]\n",
    "location_encoded=df[index.tolist()].EMPLOYER_POSTAL_CODE.str[0]\n",
    "\n",
    "\n",
    "# remove missin\n",
    "# soc_encoded.replace({'OP':'15'},inplace=True)\n"
   ]
  },
  {
   "cell_type": "code",
   "execution_count": 172,
   "metadata": {},
   "outputs": [],
   "source": [
    "label=le.fit_transform(df[index.tolist()].H1B_DEPENDENT.astype(str))"
   ]
  },
  {
   "cell_type": "code",
   "execution_count": 173,
   "metadata": {},
   "outputs": [],
   "source": [
    "features=list(zip(soc_encoded,location_encoded))"
   ]
  },
  {
   "cell_type": "code",
   "execution_count": 179,
   "metadata": {},
   "outputs": [],
   "source": [
    "# Import train_test_split function\n",
    "from sklearn.model_selection import train_test_split\n",
    "\n",
    "# Split dataset into training set and test set\n",
    "x_train, x_test, y_train, y_test = train_test_split(features, label, test_size=0.3) # 70% training and 30% test"
   ]
  },
  {
   "cell_type": "markdown",
   "metadata": {},
   "source": [
    "# Build Model\n",
    "from sklearn.neighbors import KNeighborsClassifier\n",
    "\n",
    "model = KNeighborsClassifier(n_neighbors=3)\n",
    "\n",
    "# Train the model using the training sets\n",
    "model.fit(features,label)\n",
    "\n",
    "#Predict Output\n",
    "predicted= model.predict([[15,9]]) # '15':'Computer and Mathematical Occupations'; '9':'West Coast'\n",
    "print(predicted)"
   ]
  },
  {
   "cell_type": "code",
   "execution_count": null,
   "metadata": {},
   "outputs": [],
   "source": [
    "#Import knearest neighbors Classifier model\n",
    "from sklearn.neighbors import KNeighborsClassifier\n",
    "\n",
    "#Create KNN Classifier\n",
    "knn = KNeighborsClassifier(n_neighbors=5)\n",
    "\n",
    "#Train the model using the training sets\n",
    "knn.fit(x_train, y_train)\n",
    "\n",
    "#Predict the response for test dataset\n",
    "y_pred = knn.predict(x_test)"
   ]
  },
  {
   "cell_type": "code",
   "execution_count": 183,
   "metadata": {},
   "outputs": [
    {
     "name": "stdout",
     "output_type": "stream",
     "text": [
      "[1 0 0 ... 0 0 0]\n"
     ]
    }
   ],
   "source": [
    "print(y_pred)"
   ]
  },
  {
   "cell_type": "code",
   "execution_count": 184,
   "metadata": {},
   "outputs": [
    {
     "name": "stdout",
     "output_type": "stream",
     "text": [
      "Accuracy: 0.6961363426235065\n"
     ]
    }
   ],
   "source": [
    "#Import scikit-learn metrics module for accuracy calculation\n",
    "from sklearn import metrics\n",
    "# Model Accuracy, how often is the classifier correct?\n",
    "print(\"Accuracy:\",metrics.accuracy_score(y_test, y_pred))"
   ]
  },
  {
   "cell_type": "code",
   "execution_count": 189,
   "metadata": {},
   "outputs": [
    {
     "name": "stderr",
     "output_type": "stream",
     "text": [
      "/opt/anaconda3/lib/python3.7/site-packages/sklearn/utils/validation.py:532: FutureWarning: Beginning in version 0.22, arrays of bytes/strings will be converted to decimal numbers if dtype='numeric'. It is recommended that you convert the array to a float dtype before using it in scikit-learn, for example by using your_array = your_array.astype(np.float64).\n",
      "  FutureWarning)\n",
      "/opt/anaconda3/lib/python3.7/site-packages/sklearn/utils/validation.py:532: FutureWarning: Beginning in version 0.22, arrays of bytes/strings will be converted to decimal numbers if dtype='numeric'. It is recommended that you convert the array to a float dtype before using it in scikit-learn, for example by using your_array = your_array.astype(np.float64).\n",
      "  FutureWarning)\n",
      "/opt/anaconda3/lib/python3.7/site-packages/sklearn/utils/validation.py:532: FutureWarning: Beginning in version 0.22, arrays of bytes/strings will be converted to decimal numbers if dtype='numeric'. It is recommended that you convert the array to a float dtype before using it in scikit-learn, for example by using your_array = your_array.astype(np.float64).\n",
      "  FutureWarning)\n",
      "/opt/anaconda3/lib/python3.7/site-packages/sklearn/utils/validation.py:532: FutureWarning: Beginning in version 0.22, arrays of bytes/strings will be converted to decimal numbers if dtype='numeric'. It is recommended that you convert the array to a float dtype before using it in scikit-learn, for example by using your_array = your_array.astype(np.float64).\n",
      "  FutureWarning)\n",
      "/opt/anaconda3/lib/python3.7/site-packages/sklearn/utils/validation.py:532: FutureWarning: Beginning in version 0.22, arrays of bytes/strings will be converted to decimal numbers if dtype='numeric'. It is recommended that you convert the array to a float dtype before using it in scikit-learn, for example by using your_array = your_array.astype(np.float64).\n",
      "  FutureWarning)\n",
      "/opt/anaconda3/lib/python3.7/site-packages/sklearn/utils/validation.py:532: FutureWarning: Beginning in version 0.22, arrays of bytes/strings will be converted to decimal numbers if dtype='numeric'. It is recommended that you convert the array to a float dtype before using it in scikit-learn, for example by using your_array = your_array.astype(np.float64).\n",
      "  FutureWarning)\n",
      "/opt/anaconda3/lib/python3.7/site-packages/sklearn/utils/validation.py:532: FutureWarning: Beginning in version 0.22, arrays of bytes/strings will be converted to decimal numbers if dtype='numeric'. It is recommended that you convert the array to a float dtype before using it in scikit-learn, for example by using your_array = your_array.astype(np.float64).\n",
      "  FutureWarning)\n",
      "/opt/anaconda3/lib/python3.7/site-packages/sklearn/utils/validation.py:532: FutureWarning: Beginning in version 0.22, arrays of bytes/strings will be converted to decimal numbers if dtype='numeric'. It is recommended that you convert the array to a float dtype before using it in scikit-learn, for example by using your_array = your_array.astype(np.float64).\n",
      "  FutureWarning)\n",
      "/opt/anaconda3/lib/python3.7/site-packages/sklearn/utils/validation.py:532: FutureWarning: Beginning in version 0.22, arrays of bytes/strings will be converted to decimal numbers if dtype='numeric'. It is recommended that you convert the array to a float dtype before using it in scikit-learn, for example by using your_array = your_array.astype(np.float64).\n",
      "  FutureWarning)\n",
      "/opt/anaconda3/lib/python3.7/site-packages/sklearn/utils/validation.py:532: FutureWarning: Beginning in version 0.22, arrays of bytes/strings will be converted to decimal numbers if dtype='numeric'. It is recommended that you convert the array to a float dtype before using it in scikit-learn, for example by using your_array = your_array.astype(np.float64).\n",
      "  FutureWarning)\n",
      "/opt/anaconda3/lib/python3.7/site-packages/sklearn/utils/validation.py:532: FutureWarning: Beginning in version 0.22, arrays of bytes/strings will be converted to decimal numbers if dtype='numeric'. It is recommended that you convert the array to a float dtype before using it in scikit-learn, for example by using your_array = your_array.astype(np.float64).\n",
      "  FutureWarning)\n",
      "/opt/anaconda3/lib/python3.7/site-packages/sklearn/utils/validation.py:532: FutureWarning: Beginning in version 0.22, arrays of bytes/strings will be converted to decimal numbers if dtype='numeric'. It is recommended that you convert the array to a float dtype before using it in scikit-learn, for example by using your_array = your_array.astype(np.float64).\n",
      "  FutureWarning)\n",
      "/opt/anaconda3/lib/python3.7/site-packages/sklearn/utils/validation.py:532: FutureWarning: Beginning in version 0.22, arrays of bytes/strings will be converted to decimal numbers if dtype='numeric'. It is recommended that you convert the array to a float dtype before using it in scikit-learn, for example by using your_array = your_array.astype(np.float64).\n",
      "  FutureWarning)\n",
      "/opt/anaconda3/lib/python3.7/site-packages/sklearn/utils/validation.py:532: FutureWarning: Beginning in version 0.22, arrays of bytes/strings will be converted to decimal numbers if dtype='numeric'. It is recommended that you convert the array to a float dtype before using it in scikit-learn, for example by using your_array = your_array.astype(np.float64).\n",
      "  FutureWarning)\n",
      "/opt/anaconda3/lib/python3.7/site-packages/sklearn/utils/validation.py:532: FutureWarning: Beginning in version 0.22, arrays of bytes/strings will be converted to decimal numbers if dtype='numeric'. It is recommended that you convert the array to a float dtype before using it in scikit-learn, for example by using your_array = your_array.astype(np.float64).\n",
      "  FutureWarning)\n",
      "/opt/anaconda3/lib/python3.7/site-packages/sklearn/utils/validation.py:532: FutureWarning: Beginning in version 0.22, arrays of bytes/strings will be converted to decimal numbers if dtype='numeric'. It is recommended that you convert the array to a float dtype before using it in scikit-learn, for example by using your_array = your_array.astype(np.float64).\n",
      "  FutureWarning)\n",
      "/opt/anaconda3/lib/python3.7/site-packages/sklearn/utils/validation.py:532: FutureWarning: Beginning in version 0.22, arrays of bytes/strings will be converted to decimal numbers if dtype='numeric'. It is recommended that you convert the array to a float dtype before using it in scikit-learn, for example by using your_array = your_array.astype(np.float64).\n",
      "  FutureWarning)\n",
      "/opt/anaconda3/lib/python3.7/site-packages/sklearn/utils/validation.py:532: FutureWarning: Beginning in version 0.22, arrays of bytes/strings will be converted to decimal numbers if dtype='numeric'. It is recommended that you convert the array to a float dtype before using it in scikit-learn, for example by using your_array = your_array.astype(np.float64).\n",
      "  FutureWarning)\n",
      "/opt/anaconda3/lib/python3.7/site-packages/sklearn/utils/validation.py:532: FutureWarning: Beginning in version 0.22, arrays of bytes/strings will be converted to decimal numbers if dtype='numeric'. It is recommended that you convert the array to a float dtype before using it in scikit-learn, for example by using your_array = your_array.astype(np.float64).\n",
      "  FutureWarning)\n",
      "/opt/anaconda3/lib/python3.7/site-packages/sklearn/utils/validation.py:532: FutureWarning: Beginning in version 0.22, arrays of bytes/strings will be converted to decimal numbers if dtype='numeric'. It is recommended that you convert the array to a float dtype before using it in scikit-learn, for example by using your_array = your_array.astype(np.float64).\n",
      "  FutureWarning)\n"
     ]
    },
    {
     "name": "stdout",
     "output_type": "stream",
     "text": [
      "[0.7237656  0.72698755 0.68603128 0.71424169 0.56310263]\n",
      "cv_scores mean:0.6828257500292263\n"
     ]
    }
   ],
   "source": [
    "from sklearn.model_selection import cross_val_score\n",
    "#create a new KNN model\n",
    "knn_cv = KNeighborsClassifier(n_neighbors=3)\n",
    "#train model with cv of 5 \n",
    "cv_scores = cross_val_score(knn_cv, x_train, y_train, cv=5)\n",
    "#print each cv score (accuracy) and average them\n",
    "print(cv_scores)\n",
    "print('cv_scores mean:{}'.format(np.mean(cv_scores)))"
   ]
  },
  {
   "cell_type": "code",
   "execution_count": null,
   "metadata": {},
   "outputs": [
    {
     "name": "stderr",
     "output_type": "stream",
     "text": [
      "/opt/anaconda3/lib/python3.7/site-packages/sklearn/utils/validation.py:532: FutureWarning: Beginning in version 0.22, arrays of bytes/strings will be converted to decimal numbers if dtype='numeric'. It is recommended that you convert the array to a float dtype before using it in scikit-learn, for example by using your_array = your_array.astype(np.float64).\n",
      "  FutureWarning)\n",
      "/opt/anaconda3/lib/python3.7/site-packages/sklearn/utils/validation.py:532: FutureWarning: Beginning in version 0.22, arrays of bytes/strings will be converted to decimal numbers if dtype='numeric'. It is recommended that you convert the array to a float dtype before using it in scikit-learn, for example by using your_array = your_array.astype(np.float64).\n",
      "  FutureWarning)\n",
      "/opt/anaconda3/lib/python3.7/site-packages/sklearn/utils/validation.py:532: FutureWarning: Beginning in version 0.22, arrays of bytes/strings will be converted to decimal numbers if dtype='numeric'. It is recommended that you convert the array to a float dtype before using it in scikit-learn, for example by using your_array = your_array.astype(np.float64).\n",
      "  FutureWarning)\n",
      "/opt/anaconda3/lib/python3.7/site-packages/sklearn/utils/validation.py:532: FutureWarning: Beginning in version 0.22, arrays of bytes/strings will be converted to decimal numbers if dtype='numeric'. It is recommended that you convert the array to a float dtype before using it in scikit-learn, for example by using your_array = your_array.astype(np.float64).\n",
      "  FutureWarning)\n",
      "/opt/anaconda3/lib/python3.7/site-packages/sklearn/utils/validation.py:532: FutureWarning: Beginning in version 0.22, arrays of bytes/strings will be converted to decimal numbers if dtype='numeric'. It is recommended that you convert the array to a float dtype before using it in scikit-learn, for example by using your_array = your_array.astype(np.float64).\n",
      "  FutureWarning)\n",
      "/opt/anaconda3/lib/python3.7/site-packages/sklearn/utils/validation.py:532: FutureWarning: Beginning in version 0.22, arrays of bytes/strings will be converted to decimal numbers if dtype='numeric'. It is recommended that you convert the array to a float dtype before using it in scikit-learn, for example by using your_array = your_array.astype(np.float64).\n",
      "  FutureWarning)\n",
      "/opt/anaconda3/lib/python3.7/site-packages/sklearn/utils/validation.py:532: FutureWarning: Beginning in version 0.22, arrays of bytes/strings will be converted to decimal numbers if dtype='numeric'. It is recommended that you convert the array to a float dtype before using it in scikit-learn, for example by using your_array = your_array.astype(np.float64).\n",
      "  FutureWarning)\n",
      "/opt/anaconda3/lib/python3.7/site-packages/sklearn/utils/validation.py:532: FutureWarning: Beginning in version 0.22, arrays of bytes/strings will be converted to decimal numbers if dtype='numeric'. It is recommended that you convert the array to a float dtype before using it in scikit-learn, for example by using your_array = your_array.astype(np.float64).\n",
      "  FutureWarning)\n",
      "/opt/anaconda3/lib/python3.7/site-packages/sklearn/utils/validation.py:532: FutureWarning: Beginning in version 0.22, arrays of bytes/strings will be converted to decimal numbers if dtype='numeric'. It is recommended that you convert the array to a float dtype before using it in scikit-learn, for example by using your_array = your_array.astype(np.float64).\n",
      "  FutureWarning)\n",
      "/opt/anaconda3/lib/python3.7/site-packages/sklearn/utils/validation.py:532: FutureWarning: Beginning in version 0.22, arrays of bytes/strings will be converted to decimal numbers if dtype='numeric'. It is recommended that you convert the array to a float dtype before using it in scikit-learn, for example by using your_array = your_array.astype(np.float64).\n",
      "  FutureWarning)\n",
      "/opt/anaconda3/lib/python3.7/site-packages/sklearn/utils/validation.py:532: FutureWarning: Beginning in version 0.22, arrays of bytes/strings will be converted to decimal numbers if dtype='numeric'. It is recommended that you convert the array to a float dtype before using it in scikit-learn, for example by using your_array = your_array.astype(np.float64).\n",
      "  FutureWarning)\n",
      "/opt/anaconda3/lib/python3.7/site-packages/sklearn/utils/validation.py:532: FutureWarning: Beginning in version 0.22, arrays of bytes/strings will be converted to decimal numbers if dtype='numeric'. It is recommended that you convert the array to a float dtype before using it in scikit-learn, for example by using your_array = your_array.astype(np.float64).\n",
      "  FutureWarning)\n",
      "/opt/anaconda3/lib/python3.7/site-packages/sklearn/utils/validation.py:532: FutureWarning: Beginning in version 0.22, arrays of bytes/strings will be converted to decimal numbers if dtype='numeric'. It is recommended that you convert the array to a float dtype before using it in scikit-learn, for example by using your_array = your_array.astype(np.float64).\n",
      "  FutureWarning)\n",
      "/opt/anaconda3/lib/python3.7/site-packages/sklearn/utils/validation.py:532: FutureWarning: Beginning in version 0.22, arrays of bytes/strings will be converted to decimal numbers if dtype='numeric'. It is recommended that you convert the array to a float dtype before using it in scikit-learn, for example by using your_array = your_array.astype(np.float64).\n",
      "  FutureWarning)\n",
      "/opt/anaconda3/lib/python3.7/site-packages/sklearn/utils/validation.py:532: FutureWarning: Beginning in version 0.22, arrays of bytes/strings will be converted to decimal numbers if dtype='numeric'. It is recommended that you convert the array to a float dtype before using it in scikit-learn, for example by using your_array = your_array.astype(np.float64).\n",
      "  FutureWarning)\n",
      "/opt/anaconda3/lib/python3.7/site-packages/sklearn/utils/validation.py:532: FutureWarning: Beginning in version 0.22, arrays of bytes/strings will be converted to decimal numbers if dtype='numeric'. It is recommended that you convert the array to a float dtype before using it in scikit-learn, for example by using your_array = your_array.astype(np.float64).\n",
      "  FutureWarning)\n",
      "/opt/anaconda3/lib/python3.7/site-packages/sklearn/utils/validation.py:532: FutureWarning: Beginning in version 0.22, arrays of bytes/strings will be converted to decimal numbers if dtype='numeric'. It is recommended that you convert the array to a float dtype before using it in scikit-learn, for example by using your_array = your_array.astype(np.float64).\n",
      "  FutureWarning)\n",
      "/opt/anaconda3/lib/python3.7/site-packages/sklearn/utils/validation.py:532: FutureWarning: Beginning in version 0.22, arrays of bytes/strings will be converted to decimal numbers if dtype='numeric'. It is recommended that you convert the array to a float dtype before using it in scikit-learn, for example by using your_array = your_array.astype(np.float64).\n",
      "  FutureWarning)\n",
      "/opt/anaconda3/lib/python3.7/site-packages/sklearn/utils/validation.py:532: FutureWarning: Beginning in version 0.22, arrays of bytes/strings will be converted to decimal numbers if dtype='numeric'. It is recommended that you convert the array to a float dtype before using it in scikit-learn, for example by using your_array = your_array.astype(np.float64).\n",
      "  FutureWarning)\n",
      "/opt/anaconda3/lib/python3.7/site-packages/sklearn/utils/validation.py:532: FutureWarning: Beginning in version 0.22, arrays of bytes/strings will be converted to decimal numbers if dtype='numeric'. It is recommended that you convert the array to a float dtype before using it in scikit-learn, for example by using your_array = your_array.astype(np.float64).\n",
      "  FutureWarning)\n",
      "/opt/anaconda3/lib/python3.7/site-packages/sklearn/utils/validation.py:532: FutureWarning: Beginning in version 0.22, arrays of bytes/strings will be converted to decimal numbers if dtype='numeric'. It is recommended that you convert the array to a float dtype before using it in scikit-learn, for example by using your_array = your_array.astype(np.float64).\n",
      "  FutureWarning)\n",
      "/opt/anaconda3/lib/python3.7/site-packages/sklearn/utils/validation.py:532: FutureWarning: Beginning in version 0.22, arrays of bytes/strings will be converted to decimal numbers if dtype='numeric'. It is recommended that you convert the array to a float dtype before using it in scikit-learn, for example by using your_array = your_array.astype(np.float64).\n",
      "  FutureWarning)\n"
     ]
    },
    {
     "name": "stderr",
     "output_type": "stream",
     "text": [
      "/opt/anaconda3/lib/python3.7/site-packages/sklearn/utils/validation.py:532: FutureWarning: Beginning in version 0.22, arrays of bytes/strings will be converted to decimal numbers if dtype='numeric'. It is recommended that you convert the array to a float dtype before using it in scikit-learn, for example by using your_array = your_array.astype(np.float64).\n",
      "  FutureWarning)\n",
      "/opt/anaconda3/lib/python3.7/site-packages/sklearn/utils/validation.py:532: FutureWarning: Beginning in version 0.22, arrays of bytes/strings will be converted to decimal numbers if dtype='numeric'. It is recommended that you convert the array to a float dtype before using it in scikit-learn, for example by using your_array = your_array.astype(np.float64).\n",
      "  FutureWarning)\n",
      "/opt/anaconda3/lib/python3.7/site-packages/sklearn/utils/validation.py:532: FutureWarning: Beginning in version 0.22, arrays of bytes/strings will be converted to decimal numbers if dtype='numeric'. It is recommended that you convert the array to a float dtype before using it in scikit-learn, for example by using your_array = your_array.astype(np.float64).\n",
      "  FutureWarning)\n",
      "/opt/anaconda3/lib/python3.7/site-packages/sklearn/utils/validation.py:532: FutureWarning: Beginning in version 0.22, arrays of bytes/strings will be converted to decimal numbers if dtype='numeric'. It is recommended that you convert the array to a float dtype before using it in scikit-learn, for example by using your_array = your_array.astype(np.float64).\n",
      "  FutureWarning)\n",
      "/opt/anaconda3/lib/python3.7/site-packages/sklearn/utils/validation.py:532: FutureWarning: Beginning in version 0.22, arrays of bytes/strings will be converted to decimal numbers if dtype='numeric'. It is recommended that you convert the array to a float dtype before using it in scikit-learn, for example by using your_array = your_array.astype(np.float64).\n",
      "  FutureWarning)\n",
      "/opt/anaconda3/lib/python3.7/site-packages/sklearn/utils/validation.py:532: FutureWarning: Beginning in version 0.22, arrays of bytes/strings will be converted to decimal numbers if dtype='numeric'. It is recommended that you convert the array to a float dtype before using it in scikit-learn, for example by using your_array = your_array.astype(np.float64).\n",
      "  FutureWarning)\n",
      "/opt/anaconda3/lib/python3.7/site-packages/sklearn/utils/validation.py:532: FutureWarning: Beginning in version 0.22, arrays of bytes/strings will be converted to decimal numbers if dtype='numeric'. It is recommended that you convert the array to a float dtype before using it in scikit-learn, for example by using your_array = your_array.astype(np.float64).\n",
      "  FutureWarning)\n",
      "/opt/anaconda3/lib/python3.7/site-packages/sklearn/utils/validation.py:532: FutureWarning: Beginning in version 0.22, arrays of bytes/strings will be converted to decimal numbers if dtype='numeric'. It is recommended that you convert the array to a float dtype before using it in scikit-learn, for example by using your_array = your_array.astype(np.float64).\n",
      "  FutureWarning)\n"
     ]
    }
   ],
   "source": [
    "from sklearn.model_selection import GridSearchCV\n",
    "#create new a knn model\n",
    "knn2 = KNeighborsClassifier()\n",
    "#create a dictionary of all values we want to test for n_neighbors\n",
    "param_grid = {'n_neighbors': np.arange(1, 25)}\n",
    "#use gridsearch to test all values for n_neighbors\n",
    "knn_gscv = GridSearchCV(knn2, param_grid, cv=5)\n",
    "#fit model to data\n",
    "knn_gscv.fit(x_train, y_train)"
   ]
  },
  {
   "cell_type": "code",
   "execution_count": null,
   "metadata": {},
   "outputs": [],
   "source": []
  },
  {
   "cell_type": "code",
   "execution_count": null,
   "metadata": {},
   "outputs": [],
   "source": []
  },
  {
   "cell_type": "code",
   "execution_count": 36,
   "metadata": {},
   "outputs": [
    {
     "ename": "NameError",
     "evalue": "name 'temp' is not defined",
     "output_type": "error",
     "traceback": [
      "\u001b[0;31m---------------------------------------------------------------------------\u001b[0m",
      "\u001b[0;31mNameError\u001b[0m                                 Traceback (most recent call last)",
      "\u001b[0;32m<ipython-input-36-d43a79eb64a1>\u001b[0m in \u001b[0;36m<module>\u001b[0;34m\u001b[0m\n\u001b[1;32m      1\u001b[0m \u001b[0;31m# converting string labels into numbers\u001b[0m\u001b[0;34m\u001b[0m\u001b[0;34m\u001b[0m\u001b[0;34m\u001b[0m\u001b[0m\n\u001b[0;32m----> 2\u001b[0;31m \u001b[0mlocation_encoded\u001b[0m\u001b[0;34m=\u001b[0m\u001b[0mle\u001b[0m\u001b[0;34m.\u001b[0m\u001b[0mfit_transform\u001b[0m\u001b[0;34m(\u001b[0m\u001b[0mtemp\u001b[0m\u001b[0;34m)\u001b[0m\u001b[0;34m\u001b[0m\u001b[0;34m\u001b[0m\u001b[0m\n\u001b[0m\u001b[1;32m      3\u001b[0m \u001b[0mlabel\u001b[0m\u001b[0;34m=\u001b[0m\u001b[0mle\u001b[0m\u001b[0;34m.\u001b[0m\u001b[0mfit_transform\u001b[0m\u001b[0;34m(\u001b[0m\u001b[0mplay\u001b[0m\u001b[0;34m)\u001b[0m\u001b[0;34m\u001b[0m\u001b[0;34m\u001b[0m\u001b[0m\n",
      "\u001b[0;31mNameError\u001b[0m: name 'temp' is not defined"
     ]
    }
   ],
   "source": [
    "# converting string labels into numbers\n",
    "location_encoded=le.fit_transform(temp)\n",
    "label=le.fit_transform(play)"
   ]
  },
  {
   "cell_type": "code",
   "execution_count": null,
   "metadata": {},
   "outputs": [],
   "source": [
    "weather=['Sunny','Sunny','Overcast','Rainy','Rainy','Rainy','Overcast','Sunny','Sunny',\n",
    "'Rainy','Sunny','Overcast','Overcast','Rainy']\n",
    "# Second Feature\n",
    "temp=['Hot','Hot','Hot','Mild','Cool','Cool','Cool','Mild','Cool','Mild','Mild','Mild','Hot','Mild']\n",
    "\n",
    "# Label or target varible\n",
    "play=['No','No','Yes','Yes','Yes','No','Yes','No','Yes','Yes','Yes','Yes','Yes','No']"
   ]
  }
 ],
 "metadata": {
  "kernelspec": {
   "display_name": "Python 3",
   "language": "python",
   "name": "python3"
  },
  "language_info": {
   "codemirror_mode": {
    "name": "ipython",
    "version": 3
   },
   "file_extension": ".py",
   "mimetype": "text/x-python",
   "name": "python",
   "nbconvert_exporter": "python",
   "pygments_lexer": "ipython3",
   "version": "3.7.4"
  }
 },
 "nbformat": 4,
 "nbformat_minor": 2
}
